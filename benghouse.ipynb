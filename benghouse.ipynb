{
 "cells": [
  {
   "cell_type": "code",
   "execution_count": 2739,
   "id": "182974cb-312a-496b-b53f-1992a7df0b8c",
   "metadata": {},
   "outputs": [],
   "source": [
    "import pandas as pd\n",
    "import seaborn as sns\n",
    "import numpy as np\n",
    "import matplotlib.pyplot as plt\n",
    "import warnings\n",
    "warnings.filterwarnings('ignore')"
   ]
  },
  {
   "cell_type": "code",
   "execution_count": 2740,
   "id": "7abd0231-bc6a-4c38-b479-a11247b4dca4",
   "metadata": {},
   "outputs": [],
   "source": [
    "data=pd.read_csv(r\"C:\\Users\\suraj\\Downloads\\archive (14)\\bengaluru_house_prices.csv\")\n",
    "df=pd.read_csv(r\"C:\\Users\\suraj\\Downloads\\archive (14)\\bengaluru_house_prices.csv\")"
   ]
  },
  {
   "cell_type": "code",
   "execution_count": 2741,
   "id": "5b7dc159-dc4d-41d9-b8f1-82ea907bfe99",
   "metadata": {},
   "outputs": [
    {
     "data": {
      "text/html": [
       "<div>\n",
       "<style scoped>\n",
       "    .dataframe tbody tr th:only-of-type {\n",
       "        vertical-align: middle;\n",
       "    }\n",
       "\n",
       "    .dataframe tbody tr th {\n",
       "        vertical-align: top;\n",
       "    }\n",
       "\n",
       "    .dataframe thead th {\n",
       "        text-align: right;\n",
       "    }\n",
       "</style>\n",
       "<table border=\"1\" class=\"dataframe\">\n",
       "  <thead>\n",
       "    <tr style=\"text-align: right;\">\n",
       "      <th></th>\n",
       "      <th>area_type</th>\n",
       "      <th>availability</th>\n",
       "      <th>location</th>\n",
       "      <th>size</th>\n",
       "      <th>society</th>\n",
       "      <th>total_sqft</th>\n",
       "      <th>bath</th>\n",
       "      <th>balcony</th>\n",
       "      <th>price</th>\n",
       "    </tr>\n",
       "  </thead>\n",
       "  <tbody>\n",
       "    <tr>\n",
       "      <th>0</th>\n",
       "      <td>Super built-up  Area</td>\n",
       "      <td>19-Dec</td>\n",
       "      <td>Electronic City Phase II</td>\n",
       "      <td>2 BHK</td>\n",
       "      <td>Coomee</td>\n",
       "      <td>1056</td>\n",
       "      <td>2.0</td>\n",
       "      <td>1.0</td>\n",
       "      <td>39.07</td>\n",
       "    </tr>\n",
       "    <tr>\n",
       "      <th>1</th>\n",
       "      <td>Plot  Area</td>\n",
       "      <td>Ready To Move</td>\n",
       "      <td>Chikka Tirupathi</td>\n",
       "      <td>4 Bedroom</td>\n",
       "      <td>Theanmp</td>\n",
       "      <td>2600</td>\n",
       "      <td>5.0</td>\n",
       "      <td>3.0</td>\n",
       "      <td>120.00</td>\n",
       "    </tr>\n",
       "    <tr>\n",
       "      <th>2</th>\n",
       "      <td>Built-up  Area</td>\n",
       "      <td>Ready To Move</td>\n",
       "      <td>Uttarahalli</td>\n",
       "      <td>3 BHK</td>\n",
       "      <td>NaN</td>\n",
       "      <td>1440</td>\n",
       "      <td>2.0</td>\n",
       "      <td>3.0</td>\n",
       "      <td>62.00</td>\n",
       "    </tr>\n",
       "    <tr>\n",
       "      <th>3</th>\n",
       "      <td>Super built-up  Area</td>\n",
       "      <td>Ready To Move</td>\n",
       "      <td>Lingadheeranahalli</td>\n",
       "      <td>3 BHK</td>\n",
       "      <td>Soiewre</td>\n",
       "      <td>1521</td>\n",
       "      <td>3.0</td>\n",
       "      <td>1.0</td>\n",
       "      <td>95.00</td>\n",
       "    </tr>\n",
       "    <tr>\n",
       "      <th>4</th>\n",
       "      <td>Super built-up  Area</td>\n",
       "      <td>Ready To Move</td>\n",
       "      <td>Kothanur</td>\n",
       "      <td>2 BHK</td>\n",
       "      <td>NaN</td>\n",
       "      <td>1200</td>\n",
       "      <td>2.0</td>\n",
       "      <td>1.0</td>\n",
       "      <td>51.00</td>\n",
       "    </tr>\n",
       "  </tbody>\n",
       "</table>\n",
       "</div>"
      ],
      "text/plain": [
       "              area_type   availability                  location       size  \\\n",
       "0  Super built-up  Area         19-Dec  Electronic City Phase II      2 BHK   \n",
       "1            Plot  Area  Ready To Move          Chikka Tirupathi  4 Bedroom   \n",
       "2        Built-up  Area  Ready To Move               Uttarahalli      3 BHK   \n",
       "3  Super built-up  Area  Ready To Move        Lingadheeranahalli      3 BHK   \n",
       "4  Super built-up  Area  Ready To Move                  Kothanur      2 BHK   \n",
       "\n",
       "   society total_sqft  bath  balcony   price  \n",
       "0  Coomee        1056   2.0      1.0   39.07  \n",
       "1  Theanmp       2600   5.0      3.0  120.00  \n",
       "2      NaN       1440   2.0      3.0   62.00  \n",
       "3  Soiewre       1521   3.0      1.0   95.00  \n",
       "4      NaN       1200   2.0      1.0   51.00  "
      ]
     },
     "execution_count": 2741,
     "metadata": {},
     "output_type": "execute_result"
    }
   ],
   "source": [
    "# len(data)\n",
    "data.head()"
   ]
  },
  {
   "cell_type": "code",
   "execution_count": 2742,
   "id": "eb230f65-d4d5-41bc-b22e-630ca570caed",
   "metadata": {},
   "outputs": [],
   "source": [
    "# data.info"
   ]
  },
  {
   "cell_type": "code",
   "execution_count": 2743,
   "id": "ecaab7c0-2998-417f-b09c-42ae2de2c153",
   "metadata": {},
   "outputs": [],
   "source": [
    "data['location'].isnull().sum()\n",
    "data = data.dropna(subset=['location'])"
   ]
  },
  {
   "cell_type": "code",
   "execution_count": 2744,
   "id": "9a160e28-51fd-4801-8aaa-d7da16366918",
   "metadata": {},
   "outputs": [],
   "source": [
    "# data['size'].nunique()\n",
    "# data['size'].unique()\n",
    "# data[data['size'].isnull()]\n",
    "data=data.dropna(subset=['size'])"
   ]
  },
  {
   "cell_type": "markdown",
   "id": "37bf95c1-d662-4eba-9ec8-8e49270bfe0f",
   "metadata": {},
   "source": [
    "# As there are only 13 columns of RK type i can remove them to reduce complexity of data"
   ]
  },
  {
   "cell_type": "code",
   "execution_count": 2746,
   "id": "3b646171-f554-4c79-b699-66906fc69d01",
   "metadata": {},
   "outputs": [],
   "source": [
    "# data[data['size'].str.contains(\"RK\", na=False)]\n",
    "\n",
    "data=data[~data['size'].str.contains(\"RK\", na=False)] \n"
   ]
  },
  {
   "cell_type": "markdown",
   "id": "6b21f198-f0d4-4865-83e4-8e3e1e3da1bf",
   "metadata": {},
   "source": [
    "# I can take bedroom as bhk and i.m going to remove the bhk string and bedroom str from number and changing the data type to int"
   ]
  },
  {
   "cell_type": "code",
   "execution_count": 2748,
   "id": "9c9aea5d-3a36-49f6-80d3-4721edd6abdf",
   "metadata": {},
   "outputs": [],
   "source": [
    "data['size'] = data['size'].str.replace('BHK', '', regex=False)\n",
    "data['size'] = data['size'].str.replace('Bedroom', '', regex=False)\n",
    "data['size'] = data['size'].str.strip()\n",
    "\n",
    "data['size'].dtypes\n",
    "data['size']=data['size'].astype('Int64')"
   ]
  },
  {
   "cell_type": "code",
   "execution_count": 2749,
   "id": "56dfd96a-630a-46dc-a814-13c4fd935ab6",
   "metadata": {},
   "outputs": [
    {
     "data": {
      "text/plain": [
       "41.354401805869074"
      ]
     },
     "execution_count": 2749,
     "metadata": {},
     "output_type": "execute_result"
    }
   ],
   "source": [
    "(data['society'].isnull().sum()/len(data['society']))*100\n",
    "\n",
    "# As 41% of the data in this column is missing i would prefer to remove it\n"
   ]
  },
  {
   "cell_type": "code",
   "execution_count": 2750,
   "id": "fe75b643-4dad-4311-b7fa-390098197439",
   "metadata": {},
   "outputs": [],
   "source": [
    "data=data.drop(columns='society')"
   ]
  },
  {
   "cell_type": "code",
   "execution_count": 2751,
   "id": "fe47ed95-72bc-4b91-aa5a-daa119c2b54f",
   "metadata": {},
   "outputs": [
    {
     "data": {
      "text/html": [
       "<div>\n",
       "<style scoped>\n",
       "    .dataframe tbody tr th:only-of-type {\n",
       "        vertical-align: middle;\n",
       "    }\n",
       "\n",
       "    .dataframe tbody tr th {\n",
       "        vertical-align: top;\n",
       "    }\n",
       "\n",
       "    .dataframe thead th {\n",
       "        text-align: right;\n",
       "    }\n",
       "</style>\n",
       "<table border=\"1\" class=\"dataframe\">\n",
       "  <thead>\n",
       "    <tr style=\"text-align: right;\">\n",
       "      <th></th>\n",
       "      <th>area_type</th>\n",
       "      <th>availability</th>\n",
       "      <th>location</th>\n",
       "      <th>size</th>\n",
       "      <th>total_sqft</th>\n",
       "      <th>bath</th>\n",
       "      <th>balcony</th>\n",
       "      <th>price</th>\n",
       "    </tr>\n",
       "  </thead>\n",
       "  <tbody>\n",
       "    <tr>\n",
       "      <th>0</th>\n",
       "      <td>Super built-up  Area</td>\n",
       "      <td>19-Dec</td>\n",
       "      <td>Electronic City Phase II</td>\n",
       "      <td>2</td>\n",
       "      <td>1056</td>\n",
       "      <td>2.0</td>\n",
       "      <td>1.0</td>\n",
       "      <td>39.07</td>\n",
       "    </tr>\n",
       "    <tr>\n",
       "      <th>1</th>\n",
       "      <td>Plot  Area</td>\n",
       "      <td>Ready To Move</td>\n",
       "      <td>Chikka Tirupathi</td>\n",
       "      <td>4</td>\n",
       "      <td>2600</td>\n",
       "      <td>5.0</td>\n",
       "      <td>3.0</td>\n",
       "      <td>120.00</td>\n",
       "    </tr>\n",
       "    <tr>\n",
       "      <th>2</th>\n",
       "      <td>Built-up  Area</td>\n",
       "      <td>Ready To Move</td>\n",
       "      <td>Uttarahalli</td>\n",
       "      <td>3</td>\n",
       "      <td>1440</td>\n",
       "      <td>2.0</td>\n",
       "      <td>3.0</td>\n",
       "      <td>62.00</td>\n",
       "    </tr>\n",
       "    <tr>\n",
       "      <th>3</th>\n",
       "      <td>Super built-up  Area</td>\n",
       "      <td>Ready To Move</td>\n",
       "      <td>Lingadheeranahalli</td>\n",
       "      <td>3</td>\n",
       "      <td>1521</td>\n",
       "      <td>3.0</td>\n",
       "      <td>1.0</td>\n",
       "      <td>95.00</td>\n",
       "    </tr>\n",
       "    <tr>\n",
       "      <th>4</th>\n",
       "      <td>Super built-up  Area</td>\n",
       "      <td>Ready To Move</td>\n",
       "      <td>Kothanur</td>\n",
       "      <td>2</td>\n",
       "      <td>1200</td>\n",
       "      <td>2.0</td>\n",
       "      <td>1.0</td>\n",
       "      <td>51.00</td>\n",
       "    </tr>\n",
       "  </tbody>\n",
       "</table>\n",
       "</div>"
      ],
      "text/plain": [
       "              area_type   availability                  location  size  \\\n",
       "0  Super built-up  Area         19-Dec  Electronic City Phase II     2   \n",
       "1            Plot  Area  Ready To Move          Chikka Tirupathi     4   \n",
       "2        Built-up  Area  Ready To Move               Uttarahalli     3   \n",
       "3  Super built-up  Area  Ready To Move        Lingadheeranahalli     3   \n",
       "4  Super built-up  Area  Ready To Move                  Kothanur     2   \n",
       "\n",
       "  total_sqft  bath  balcony   price  \n",
       "0       1056   2.0      1.0   39.07  \n",
       "1       2600   5.0      3.0  120.00  \n",
       "2       1440   2.0      3.0   62.00  \n",
       "3       1521   3.0      1.0   95.00  \n",
       "4       1200   2.0      1.0   51.00  "
      ]
     },
     "execution_count": 2751,
     "metadata": {},
     "output_type": "execute_result"
    }
   ],
   "source": [
    "data.head()"
   ]
  },
  {
   "cell_type": "code",
   "execution_count": 2752,
   "id": "01f380aa-3042-41fb-b7ed-cbc6c352e966",
   "metadata": {},
   "outputs": [
    {
     "data": {
      "text/plain": [
       "1296"
      ]
     },
     "execution_count": 2752,
     "metadata": {},
     "output_type": "execute_result"
    }
   ],
   "source": [
    "# data['location'].isnull()\n",
    "data['location'].nunique()"
   ]
  },
  {
   "cell_type": "code",
   "execution_count": 2753,
   "id": "beabf3fb-fe9b-44a4-8204-b1e492607915",
   "metadata": {},
   "outputs": [],
   "source": [
    "# data.groupby('location')['price'].mean().sort_values(ascending=False)"
   ]
  },
  {
   "cell_type": "code",
   "execution_count": 2754,
   "id": "7bd9d63d-78b9-41dc-944c-93704b89f36e",
   "metadata": {},
   "outputs": [],
   "source": [
    "loc_price_mean = data.groupby('location')['price'].mean()\n",
    "data['location_target_enc'] = data['location'].map(loc_price_mean)"
   ]
  },
  {
   "cell_type": "code",
   "execution_count": 2755,
   "id": "249c55ca-70f4-4610-9578-470d0aa63c21",
   "metadata": {},
   "outputs": [],
   "source": [
    "# loc_price_mean"
   ]
  },
  {
   "cell_type": "code",
   "execution_count": 2756,
   "id": "adaf35c1-cf0c-40a8-9f9f-b51a19dc3453",
   "metadata": {},
   "outputs": [
    {
     "data": {
      "text/html": [
       "<div>\n",
       "<style scoped>\n",
       "    .dataframe tbody tr th:only-of-type {\n",
       "        vertical-align: middle;\n",
       "    }\n",
       "\n",
       "    .dataframe tbody tr th {\n",
       "        vertical-align: top;\n",
       "    }\n",
       "\n",
       "    .dataframe thead th {\n",
       "        text-align: right;\n",
       "    }\n",
       "</style>\n",
       "<table border=\"1\" class=\"dataframe\">\n",
       "  <thead>\n",
       "    <tr style=\"text-align: right;\">\n",
       "      <th></th>\n",
       "      <th>location_target_enc</th>\n",
       "      <th>price</th>\n",
       "    </tr>\n",
       "  </thead>\n",
       "  <tbody>\n",
       "    <tr>\n",
       "      <th>location_target_enc</th>\n",
       "      <td>1.000000</td>\n",
       "      <td>0.630606</td>\n",
       "    </tr>\n",
       "    <tr>\n",
       "      <th>price</th>\n",
       "      <td>0.630606</td>\n",
       "      <td>1.000000</td>\n",
       "    </tr>\n",
       "  </tbody>\n",
       "</table>\n",
       "</div>"
      ],
      "text/plain": [
       "                     location_target_enc     price\n",
       "location_target_enc             1.000000  0.630606\n",
       "price                           0.630606  1.000000"
      ]
     },
     "execution_count": 2756,
     "metadata": {},
     "output_type": "execute_result"
    }
   ],
   "source": [
    "# correlation with price\n",
    "data[['location_target_enc', 'price']].corr() # high corr with price"
   ]
  },
  {
   "cell_type": "code",
   "execution_count": 2757,
   "id": "c6af6be7-e40f-47a7-a046-a02e824e0b1b",
   "metadata": {},
   "outputs": [],
   "source": [
    "# sns.regplot(x='location_target_enc', y='price', data=data)\n",
    "# plt.show()"
   ]
  },
  {
   "cell_type": "code",
   "execution_count": 2758,
   "id": "f2a603c2-56d8-4249-a971-ed081aedd0ba",
   "metadata": {},
   "outputs": [
    {
     "data": {
      "text/html": [
       "<div>\n",
       "<style scoped>\n",
       "    .dataframe tbody tr th:only-of-type {\n",
       "        vertical-align: middle;\n",
       "    }\n",
       "\n",
       "    .dataframe tbody tr th {\n",
       "        vertical-align: top;\n",
       "    }\n",
       "\n",
       "    .dataframe thead th {\n",
       "        text-align: right;\n",
       "    }\n",
       "</style>\n",
       "<table border=\"1\" class=\"dataframe\">\n",
       "  <thead>\n",
       "    <tr style=\"text-align: right;\">\n",
       "      <th></th>\n",
       "      <th>area_type</th>\n",
       "      <th>availability</th>\n",
       "      <th>location</th>\n",
       "      <th>size</th>\n",
       "      <th>total_sqft</th>\n",
       "      <th>bath</th>\n",
       "      <th>balcony</th>\n",
       "      <th>price</th>\n",
       "      <th>location_target_enc</th>\n",
       "    </tr>\n",
       "  </thead>\n",
       "  <tbody>\n",
       "    <tr>\n",
       "      <th>0</th>\n",
       "      <td>Super built-up  Area</td>\n",
       "      <td>19-Dec</td>\n",
       "      <td>Electronic City Phase II</td>\n",
       "      <td>2</td>\n",
       "      <td>1056</td>\n",
       "      <td>2.0</td>\n",
       "      <td>1.0</td>\n",
       "      <td>39.07</td>\n",
       "      <td>48.316667</td>\n",
       "    </tr>\n",
       "    <tr>\n",
       "      <th>1</th>\n",
       "      <td>Plot  Area</td>\n",
       "      <td>Ready To Move</td>\n",
       "      <td>Chikka Tirupathi</td>\n",
       "      <td>4</td>\n",
       "      <td>2600</td>\n",
       "      <td>5.0</td>\n",
       "      <td>3.0</td>\n",
       "      <td>120.00</td>\n",
       "      <td>115.015882</td>\n",
       "    </tr>\n",
       "    <tr>\n",
       "      <th>2</th>\n",
       "      <td>Built-up  Area</td>\n",
       "      <td>Ready To Move</td>\n",
       "      <td>Uttarahalli</td>\n",
       "      <td>3</td>\n",
       "      <td>1440</td>\n",
       "      <td>2.0</td>\n",
       "      <td>3.0</td>\n",
       "      <td>62.00</td>\n",
       "      <td>61.252527</td>\n",
       "    </tr>\n",
       "    <tr>\n",
       "      <th>3</th>\n",
       "      <td>Super built-up  Area</td>\n",
       "      <td>Ready To Move</td>\n",
       "      <td>Lingadheeranahalli</td>\n",
       "      <td>3</td>\n",
       "      <td>1521</td>\n",
       "      <td>3.0</td>\n",
       "      <td>1.0</td>\n",
       "      <td>95.00</td>\n",
       "      <td>115.348261</td>\n",
       "    </tr>\n",
       "    <tr>\n",
       "      <th>4</th>\n",
       "      <td>Super built-up  Area</td>\n",
       "      <td>Ready To Move</td>\n",
       "      <td>Kothanur</td>\n",
       "      <td>2</td>\n",
       "      <td>1200</td>\n",
       "      <td>2.0</td>\n",
       "      <td>1.0</td>\n",
       "      <td>51.00</td>\n",
       "      <td>95.630303</td>\n",
       "    </tr>\n",
       "  </tbody>\n",
       "</table>\n",
       "</div>"
      ],
      "text/plain": [
       "              area_type   availability                  location  size  \\\n",
       "0  Super built-up  Area         19-Dec  Electronic City Phase II     2   \n",
       "1            Plot  Area  Ready To Move          Chikka Tirupathi     4   \n",
       "2        Built-up  Area  Ready To Move               Uttarahalli     3   \n",
       "3  Super built-up  Area  Ready To Move        Lingadheeranahalli     3   \n",
       "4  Super built-up  Area  Ready To Move                  Kothanur     2   \n",
       "\n",
       "  total_sqft  bath  balcony   price  location_target_enc  \n",
       "0       1056   2.0      1.0   39.07            48.316667  \n",
       "1       2600   5.0      3.0  120.00           115.015882  \n",
       "2       1440   2.0      3.0   62.00            61.252527  \n",
       "3       1521   3.0      1.0   95.00           115.348261  \n",
       "4       1200   2.0      1.0   51.00            95.630303  "
      ]
     },
     "execution_count": 2758,
     "metadata": {},
     "output_type": "execute_result"
    }
   ],
   "source": [
    "data.head()"
   ]
  },
  {
   "cell_type": "code",
   "execution_count": 2759,
   "id": "9ed2ee23-1a5d-4dda-a96b-5b65104aa988",
   "metadata": {},
   "outputs": [
    {
     "data": {
      "text/plain": [
       "array(['Super built-up  Area', 'Plot  Area', 'Built-up  Area',\n",
       "       'Carpet  Area'], dtype=object)"
      ]
     },
     "execution_count": 2759,
     "metadata": {},
     "output_type": "execute_result"
    }
   ],
   "source": [
    "data['area_type'].unique()"
   ]
  },
  {
   "cell_type": "code",
   "execution_count": 2760,
   "id": "9dd5dfe6-beeb-44bb-8d0c-9dec7dc84a1a",
   "metadata": {},
   "outputs": [],
   "source": [
    "area_type_mean = data.groupby('area_type')['price'].mean()\n",
    "data['area_type_enc'] = data['area_type'].map(area_type_mean)"
   ]
  },
  {
   "cell_type": "code",
   "execution_count": 2761,
   "id": "5accdb65-bd41-44c2-a0d4-c2de71a04b40",
   "metadata": {},
   "outputs": [
    {
     "data": {
      "text/html": [
       "<div>\n",
       "<style scoped>\n",
       "    .dataframe tbody tr th:only-of-type {\n",
       "        vertical-align: middle;\n",
       "    }\n",
       "\n",
       "    .dataframe tbody tr th {\n",
       "        vertical-align: top;\n",
       "    }\n",
       "\n",
       "    .dataframe thead th {\n",
       "        text-align: right;\n",
       "    }\n",
       "</style>\n",
       "<table border=\"1\" class=\"dataframe\">\n",
       "  <thead>\n",
       "    <tr style=\"text-align: right;\">\n",
       "      <th></th>\n",
       "      <th>area_type</th>\n",
       "      <th>availability</th>\n",
       "      <th>location</th>\n",
       "      <th>size</th>\n",
       "      <th>total_sqft</th>\n",
       "      <th>bath</th>\n",
       "      <th>balcony</th>\n",
       "      <th>price</th>\n",
       "      <th>location_target_enc</th>\n",
       "      <th>area_type_enc</th>\n",
       "    </tr>\n",
       "  </thead>\n",
       "  <tbody>\n",
       "    <tr>\n",
       "      <th>0</th>\n",
       "      <td>Super built-up  Area</td>\n",
       "      <td>19-Dec</td>\n",
       "      <td>Electronic City Phase II</td>\n",
       "      <td>2</td>\n",
       "      <td>1056</td>\n",
       "      <td>2.0</td>\n",
       "      <td>1.0</td>\n",
       "      <td>39.07</td>\n",
       "      <td>48.316667</td>\n",
       "      <td>93.039255</td>\n",
       "    </tr>\n",
       "    <tr>\n",
       "      <th>1</th>\n",
       "      <td>Plot  Area</td>\n",
       "      <td>Ready To Move</td>\n",
       "      <td>Chikka Tirupathi</td>\n",
       "      <td>4</td>\n",
       "      <td>2600</td>\n",
       "      <td>5.0</td>\n",
       "      <td>3.0</td>\n",
       "      <td>120.00</td>\n",
       "      <td>115.015882</td>\n",
       "      <td>209.368148</td>\n",
       "    </tr>\n",
       "    <tr>\n",
       "      <th>2</th>\n",
       "      <td>Built-up  Area</td>\n",
       "      <td>Ready To Move</td>\n",
       "      <td>Uttarahalli</td>\n",
       "      <td>3</td>\n",
       "      <td>1440</td>\n",
       "      <td>2.0</td>\n",
       "      <td>3.0</td>\n",
       "      <td>62.00</td>\n",
       "      <td>61.252527</td>\n",
       "      <td>104.410868</td>\n",
       "    </tr>\n",
       "    <tr>\n",
       "      <th>3</th>\n",
       "      <td>Super built-up  Area</td>\n",
       "      <td>Ready To Move</td>\n",
       "      <td>Lingadheeranahalli</td>\n",
       "      <td>3</td>\n",
       "      <td>1521</td>\n",
       "      <td>3.0</td>\n",
       "      <td>1.0</td>\n",
       "      <td>95.00</td>\n",
       "      <td>115.348261</td>\n",
       "      <td>93.039255</td>\n",
       "    </tr>\n",
       "    <tr>\n",
       "      <th>4</th>\n",
       "      <td>Super built-up  Area</td>\n",
       "      <td>Ready To Move</td>\n",
       "      <td>Kothanur</td>\n",
       "      <td>2</td>\n",
       "      <td>1200</td>\n",
       "      <td>2.0</td>\n",
       "      <td>1.0</td>\n",
       "      <td>51.00</td>\n",
       "      <td>95.630303</td>\n",
       "      <td>93.039255</td>\n",
       "    </tr>\n",
       "  </tbody>\n",
       "</table>\n",
       "</div>"
      ],
      "text/plain": [
       "              area_type   availability                  location  size  \\\n",
       "0  Super built-up  Area         19-Dec  Electronic City Phase II     2   \n",
       "1            Plot  Area  Ready To Move          Chikka Tirupathi     4   \n",
       "2        Built-up  Area  Ready To Move               Uttarahalli     3   \n",
       "3  Super built-up  Area  Ready To Move        Lingadheeranahalli     3   \n",
       "4  Super built-up  Area  Ready To Move                  Kothanur     2   \n",
       "\n",
       "  total_sqft  bath  balcony   price  location_target_enc  area_type_enc  \n",
       "0       1056   2.0      1.0   39.07            48.316667      93.039255  \n",
       "1       2600   5.0      3.0  120.00           115.015882     209.368148  \n",
       "2       1440   2.0      3.0   62.00            61.252527     104.410868  \n",
       "3       1521   3.0      1.0   95.00           115.348261      93.039255  \n",
       "4       1200   2.0      1.0   51.00            95.630303      93.039255  "
      ]
     },
     "execution_count": 2761,
     "metadata": {},
     "output_type": "execute_result"
    }
   ],
   "source": [
    "data.head()"
   ]
  },
  {
   "cell_type": "code",
   "execution_count": 2762,
   "id": "6d145db1-38d2-4718-bc41-67ca3cd010fa",
   "metadata": {},
   "outputs": [
    {
     "data": {
      "text/plain": [
       "area_type               object\n",
       "availability            object\n",
       "location                object\n",
       "size                     Int64\n",
       "total_sqft              object\n",
       "bath                   float64\n",
       "balcony                float64\n",
       "price                  float64\n",
       "location_target_enc    float64\n",
       "area_type_enc          float64\n",
       "dtype: object"
      ]
     },
     "execution_count": 2762,
     "metadata": {},
     "output_type": "execute_result"
    }
   ],
   "source": [
    "data.dtypes"
   ]
  },
  {
   "cell_type": "code",
   "execution_count": 2763,
   "id": "ab122439-4f92-4e30-abfd-4c00045c40b2",
   "metadata": {},
   "outputs": [
    {
     "data": {
      "text/html": [
       "<div>\n",
       "<style scoped>\n",
       "    .dataframe tbody tr th:only-of-type {\n",
       "        vertical-align: middle;\n",
       "    }\n",
       "\n",
       "    .dataframe tbody tr th {\n",
       "        vertical-align: top;\n",
       "    }\n",
       "\n",
       "    .dataframe thead th {\n",
       "        text-align: right;\n",
       "    }\n",
       "</style>\n",
       "<table border=\"1\" class=\"dataframe\">\n",
       "  <thead>\n",
       "    <tr style=\"text-align: right;\">\n",
       "      <th></th>\n",
       "      <th>area_type</th>\n",
       "      <th>availability</th>\n",
       "      <th>location</th>\n",
       "      <th>size</th>\n",
       "      <th>total_sqft</th>\n",
       "      <th>bath</th>\n",
       "      <th>balcony</th>\n",
       "      <th>price</th>\n",
       "      <th>location_target_enc</th>\n",
       "      <th>area_type_enc</th>\n",
       "    </tr>\n",
       "  </thead>\n",
       "  <tbody>\n",
       "    <tr>\n",
       "      <th>6552</th>\n",
       "      <td>Plot  Area</td>\n",
       "      <td>Ready To Move</td>\n",
       "      <td>5 Bedroom Farm House in Lakshmipura</td>\n",
       "      <td>5</td>\n",
       "      <td>24Guntha</td>\n",
       "      <td>6.0</td>\n",
       "      <td>2.0</td>\n",
       "      <td>550.0</td>\n",
       "      <td>550.000000</td>\n",
       "      <td>209.368148</td>\n",
       "    </tr>\n",
       "    <tr>\n",
       "      <th>9423</th>\n",
       "      <td>Plot  Area</td>\n",
       "      <td>Ready To Move</td>\n",
       "      <td>Ramamurthy Nagar</td>\n",
       "      <td>1</td>\n",
       "      <td>1Grounds</td>\n",
       "      <td>1.0</td>\n",
       "      <td>1.0</td>\n",
       "      <td>48.0</td>\n",
       "      <td>88.402055</td>\n",
       "      <td>209.368148</td>\n",
       "    </tr>\n",
       "    <tr>\n",
       "      <th>11320</th>\n",
       "      <td>Plot  Area</td>\n",
       "      <td>Ready To Move</td>\n",
       "      <td>Arishinakunte</td>\n",
       "      <td>1</td>\n",
       "      <td>38Guntha</td>\n",
       "      <td>1.0</td>\n",
       "      <td>0.0</td>\n",
       "      <td>170.0</td>\n",
       "      <td>153.333333</td>\n",
       "      <td>209.368148</td>\n",
       "    </tr>\n",
       "  </tbody>\n",
       "</table>\n",
       "</div>"
      ],
      "text/plain": [
       "        area_type   availability                             location  size  \\\n",
       "6552   Plot  Area  Ready To Move  5 Bedroom Farm House in Lakshmipura     5   \n",
       "9423   Plot  Area  Ready To Move                     Ramamurthy Nagar     1   \n",
       "11320  Plot  Area  Ready To Move                        Arishinakunte     1   \n",
       "\n",
       "      total_sqft  bath  balcony  price  location_target_enc  area_type_enc  \n",
       "6552    24Guntha   6.0      2.0  550.0           550.000000     209.368148  \n",
       "9423    1Grounds   1.0      1.0   48.0            88.402055     209.368148  \n",
       "11320   38Guntha   1.0      0.0  170.0           153.333333     209.368148  "
      ]
     },
     "execution_count": 2763,
     "metadata": {},
     "output_type": "execute_result"
    }
   ],
   "source": [
    "# data[data['total_sqft']=='1133 - 1384']\n",
    "data[data['total_sqft'].str.contains(\"G\", na=False)]\n"
   ]
  },
  {
   "cell_type": "code",
   "execution_count": 2764,
   "id": "e10d5ae2-72ee-4f6d-a959-0ee461816386",
   "metadata": {},
   "outputs": [],
   "source": [
    "data['total_sqft'] = data['total_sqft'].str.replace('Sq. Meter', '', regex=False)\n",
    "data['total_sqft'] = data['total_sqft'].str.replace('Sq. Yards', '', regex=False)\n",
    "data['total_sqft'] = data['total_sqft'].str.strip()\n",
    "data=data[~data['total_sqft'].str.contains(\"A\", na=False)] \n",
    "data=data[~data['total_sqft'].str.contains(\"G\", na=False)] \n",
    "data=data[~data['total_sqft'].str.contains(\"C\", na=False)] \n",
    "data=data[~data['total_sqft'].str.contains(\"P\", na=False)] "
   ]
  },
  {
   "cell_type": "markdown",
   "id": "351f9a8b-7273-45d3-ba64-768ab924a374",
   "metadata": {},
   "source": [
    "# This function will replace the values like 1000-1100 with its mean which makes things easy for us"
   ]
  },
  {
   "cell_type": "code",
   "execution_count": 2766,
   "id": "2d171344-8b92-4e93-855d-3ff5c555806b",
   "metadata": {},
   "outputs": [],
   "source": [
    "def convert_sqft(x):\n",
    "    try:\n",
    "        if '-' in x:\n",
    "            nums = x.split('-')\n",
    "            return (float(nums[0]) + float(nums[1])) / 2\n",
    "        else:\n",
    "            return float(x)   # single number case\n",
    "    except:\n",
    "        return np.nan   # if not convertible (e.g. Sq. Meter etc.)\n",
    "\n",
    "data.loc[data['total_sqft'].str.contains(\"-\", na=False),'total_sqft'] = (data.loc[data['total_sqft'].str.contains(\"-\", na=False), 'total_sqft'].apply(convert_sqft))\n",
    "\n",
    "\n",
    "data['total_sqft'] = data['total_sqft'].astype(float)\n"
   ]
  },
  {
   "cell_type": "code",
   "execution_count": 2767,
   "id": "02a97f19-2e98-420a-9f02-c85fce9aeba9",
   "metadata": {},
   "outputs": [],
   "source": [
    "# pd.set_option(\"display.max_rows\", None)\n",
    "# data['total_sqft']"
   ]
  },
  {
   "cell_type": "code",
   "execution_count": 2768,
   "id": "13a679d7-ecfa-48f9-9095-514c6bbadd02",
   "metadata": {},
   "outputs": [
    {
     "data": {
      "text/html": [
       "<div>\n",
       "<style scoped>\n",
       "    .dataframe tbody tr th:only-of-type {\n",
       "        vertical-align: middle;\n",
       "    }\n",
       "\n",
       "    .dataframe tbody tr th {\n",
       "        vertical-align: top;\n",
       "    }\n",
       "\n",
       "    .dataframe thead th {\n",
       "        text-align: right;\n",
       "    }\n",
       "</style>\n",
       "<table border=\"1\" class=\"dataframe\">\n",
       "  <thead>\n",
       "    <tr style=\"text-align: right;\">\n",
       "      <th></th>\n",
       "      <th>size</th>\n",
       "      <th>total_sqft</th>\n",
       "      <th>bath</th>\n",
       "      <th>balcony</th>\n",
       "      <th>price</th>\n",
       "      <th>location_target_enc</th>\n",
       "      <th>area_type_enc</th>\n",
       "    </tr>\n",
       "  </thead>\n",
       "  <tbody>\n",
       "    <tr>\n",
       "      <th>size</th>\n",
       "      <td>1.000000</td>\n",
       "      <td>0.346318</td>\n",
       "      <td>0.897957</td>\n",
       "      <td>0.184590</td>\n",
       "      <td>0.398020</td>\n",
       "      <td>0.209355</td>\n",
       "      <td>0.417230</td>\n",
       "    </tr>\n",
       "    <tr>\n",
       "      <th>total_sqft</th>\n",
       "      <td>0.346318</td>\n",
       "      <td>1.000000</td>\n",
       "      <td>0.390570</td>\n",
       "      <td>0.147796</td>\n",
       "      <td>0.574272</td>\n",
       "      <td>0.318557</td>\n",
       "      <td>0.098301</td>\n",
       "    </tr>\n",
       "    <tr>\n",
       "      <th>bath</th>\n",
       "      <td>0.897957</td>\n",
       "      <td>0.390570</td>\n",
       "      <td>1.000000</td>\n",
       "      <td>0.201654</td>\n",
       "      <td>0.456084</td>\n",
       "      <td>0.253681</td>\n",
       "      <td>0.384664</td>\n",
       "    </tr>\n",
       "    <tr>\n",
       "      <th>balcony</th>\n",
       "      <td>0.184590</td>\n",
       "      <td>0.147796</td>\n",
       "      <td>0.201654</td>\n",
       "      <td>1.000000</td>\n",
       "      <td>0.119942</td>\n",
       "      <td>0.074861</td>\n",
       "      <td>-0.104201</td>\n",
       "    </tr>\n",
       "    <tr>\n",
       "      <th>price</th>\n",
       "      <td>0.398020</td>\n",
       "      <td>0.574272</td>\n",
       "      <td>0.456084</td>\n",
       "      <td>0.119942</td>\n",
       "      <td>1.000000</td>\n",
       "      <td>0.630327</td>\n",
       "      <td>0.275344</td>\n",
       "    </tr>\n",
       "    <tr>\n",
       "      <th>location_target_enc</th>\n",
       "      <td>0.209355</td>\n",
       "      <td>0.318557</td>\n",
       "      <td>0.253681</td>\n",
       "      <td>0.074861</td>\n",
       "      <td>0.630327</td>\n",
       "      <td>1.000000</td>\n",
       "      <td>0.124257</td>\n",
       "    </tr>\n",
       "    <tr>\n",
       "      <th>area_type_enc</th>\n",
       "      <td>0.417230</td>\n",
       "      <td>0.098301</td>\n",
       "      <td>0.384664</td>\n",
       "      <td>-0.104201</td>\n",
       "      <td>0.275344</td>\n",
       "      <td>0.124257</td>\n",
       "      <td>1.000000</td>\n",
       "    </tr>\n",
       "  </tbody>\n",
       "</table>\n",
       "</div>"
      ],
      "text/plain": [
       "                         size  total_sqft      bath   balcony     price  \\\n",
       "size                 1.000000    0.346318  0.897957  0.184590  0.398020   \n",
       "total_sqft           0.346318    1.000000  0.390570  0.147796  0.574272   \n",
       "bath                 0.897957    0.390570  1.000000  0.201654  0.456084   \n",
       "balcony              0.184590    0.147796  0.201654  1.000000  0.119942   \n",
       "price                0.398020    0.574272  0.456084  0.119942  1.000000   \n",
       "location_target_enc  0.209355    0.318557  0.253681  0.074861  0.630327   \n",
       "area_type_enc        0.417230    0.098301  0.384664 -0.104201  0.275344   \n",
       "\n",
       "                     location_target_enc  area_type_enc  \n",
       "size                            0.209355       0.417230  \n",
       "total_sqft                      0.318557       0.098301  \n",
       "bath                            0.253681       0.384664  \n",
       "balcony                         0.074861      -0.104201  \n",
       "price                           0.630327       0.275344  \n",
       "location_target_enc             1.000000       0.124257  \n",
       "area_type_enc                   0.124257       1.000000  "
      ]
     },
     "execution_count": 2768,
     "metadata": {},
     "output_type": "execute_result"
    }
   ],
   "source": [
    "data.drop(columns=['area_type', 'availability', 'location'], errors='ignore').corr()"
   ]
  },
  {
   "cell_type": "markdown",
   "id": "20c5ab0c-88bd-4d33-a679-5c482364f2a5",
   "metadata": {},
   "source": [
    "# I'm going to remove balcony as its correlation with price is very less"
   ]
  },
  {
   "cell_type": "code",
   "execution_count": 2770,
   "id": "af1656dc-7c30-4789-8c85-9db083cb6446",
   "metadata": {},
   "outputs": [],
   "source": [
    "data=data.drop(columns='balcony')"
   ]
  },
  {
   "cell_type": "code",
   "execution_count": 2771,
   "id": "2ee0f839-591c-4f83-a8fd-4f311f7e291d",
   "metadata": {},
   "outputs": [
    {
     "data": {
      "text/html": [
       "<div>\n",
       "<style scoped>\n",
       "    .dataframe tbody tr th:only-of-type {\n",
       "        vertical-align: middle;\n",
       "    }\n",
       "\n",
       "    .dataframe tbody tr th {\n",
       "        vertical-align: top;\n",
       "    }\n",
       "\n",
       "    .dataframe thead th {\n",
       "        text-align: right;\n",
       "    }\n",
       "</style>\n",
       "<table border=\"1\" class=\"dataframe\">\n",
       "  <thead>\n",
       "    <tr style=\"text-align: right;\">\n",
       "      <th></th>\n",
       "      <th>area_type</th>\n",
       "      <th>availability</th>\n",
       "      <th>location</th>\n",
       "      <th>size</th>\n",
       "      <th>total_sqft</th>\n",
       "      <th>bath</th>\n",
       "      <th>price</th>\n",
       "      <th>location_target_enc</th>\n",
       "      <th>area_type_enc</th>\n",
       "    </tr>\n",
       "  </thead>\n",
       "  <tbody>\n",
       "    <tr>\n",
       "      <th>0</th>\n",
       "      <td>Super built-up  Area</td>\n",
       "      <td>19-Dec</td>\n",
       "      <td>Electronic City Phase II</td>\n",
       "      <td>2</td>\n",
       "      <td>1056.0</td>\n",
       "      <td>2.0</td>\n",
       "      <td>39.07</td>\n",
       "      <td>48.316667</td>\n",
       "      <td>93.039255</td>\n",
       "    </tr>\n",
       "    <tr>\n",
       "      <th>1</th>\n",
       "      <td>Plot  Area</td>\n",
       "      <td>Ready To Move</td>\n",
       "      <td>Chikka Tirupathi</td>\n",
       "      <td>4</td>\n",
       "      <td>2600.0</td>\n",
       "      <td>5.0</td>\n",
       "      <td>120.00</td>\n",
       "      <td>115.015882</td>\n",
       "      <td>209.368148</td>\n",
       "    </tr>\n",
       "    <tr>\n",
       "      <th>2</th>\n",
       "      <td>Built-up  Area</td>\n",
       "      <td>Ready To Move</td>\n",
       "      <td>Uttarahalli</td>\n",
       "      <td>3</td>\n",
       "      <td>1440.0</td>\n",
       "      <td>2.0</td>\n",
       "      <td>62.00</td>\n",
       "      <td>61.252527</td>\n",
       "      <td>104.410868</td>\n",
       "    </tr>\n",
       "    <tr>\n",
       "      <th>3</th>\n",
       "      <td>Super built-up  Area</td>\n",
       "      <td>Ready To Move</td>\n",
       "      <td>Lingadheeranahalli</td>\n",
       "      <td>3</td>\n",
       "      <td>1521.0</td>\n",
       "      <td>3.0</td>\n",
       "      <td>95.00</td>\n",
       "      <td>115.348261</td>\n",
       "      <td>93.039255</td>\n",
       "    </tr>\n",
       "    <tr>\n",
       "      <th>4</th>\n",
       "      <td>Super built-up  Area</td>\n",
       "      <td>Ready To Move</td>\n",
       "      <td>Kothanur</td>\n",
       "      <td>2</td>\n",
       "      <td>1200.0</td>\n",
       "      <td>2.0</td>\n",
       "      <td>51.00</td>\n",
       "      <td>95.630303</td>\n",
       "      <td>93.039255</td>\n",
       "    </tr>\n",
       "  </tbody>\n",
       "</table>\n",
       "</div>"
      ],
      "text/plain": [
       "              area_type   availability                  location  size  \\\n",
       "0  Super built-up  Area         19-Dec  Electronic City Phase II     2   \n",
       "1            Plot  Area  Ready To Move          Chikka Tirupathi     4   \n",
       "2        Built-up  Area  Ready To Move               Uttarahalli     3   \n",
       "3  Super built-up  Area  Ready To Move        Lingadheeranahalli     3   \n",
       "4  Super built-up  Area  Ready To Move                  Kothanur     2   \n",
       "\n",
       "   total_sqft  bath   price  location_target_enc  area_type_enc  \n",
       "0      1056.0   2.0   39.07            48.316667      93.039255  \n",
       "1      2600.0   5.0  120.00           115.015882     209.368148  \n",
       "2      1440.0   2.0   62.00            61.252527     104.410868  \n",
       "3      1521.0   3.0   95.00           115.348261      93.039255  \n",
       "4      1200.0   2.0   51.00            95.630303      93.039255  "
      ]
     },
     "execution_count": 2771,
     "metadata": {},
     "output_type": "execute_result"
    }
   ],
   "source": [
    "data.head()"
   ]
  },
  {
   "cell_type": "code",
   "execution_count": 2772,
   "id": "70e6761d-c26c-482f-9310-24be8f526313",
   "metadata": {},
   "outputs": [],
   "source": [
    "# data['location'].unique(),data['location_target_enc'].unique()"
   ]
  },
  {
   "cell_type": "markdown",
   "id": "ad4198b8-040d-428c-a13e-b6a84e2eaa3c",
   "metadata": {},
   "source": [
    "# i'm going to remove null values from bath as the number is only 57"
   ]
  },
  {
   "cell_type": "code",
   "execution_count": 2774,
   "id": "e7af4e92-69f9-45ab-8b39-8b2632c7a1d5",
   "metadata": {},
   "outputs": [],
   "source": [
    "# data[data['bath'].isnull()]\n",
    "\n",
    "data = data.dropna(subset=['bath'])"
   ]
  },
  {
   "cell_type": "code",
   "execution_count": 2775,
   "id": "67908f2b-aa98-4e32-a7e2-862fcf0ef94b",
   "metadata": {},
   "outputs": [
    {
     "data": {
      "text/plain": [
       "99.24174174174173"
      ]
     },
     "execution_count": 2775,
     "metadata": {},
     "output_type": "execute_result"
    }
   ],
   "source": [
    "(len(data)/len(df))*100\n",
    "# we have 99percent of the original data left after all this preprocessingS"
   ]
  },
  {
   "cell_type": "markdown",
   "id": "eb4f3009-2c1e-4b52-888c-89cd26f9e462",
   "metadata": {},
   "source": [
    "# Now we have to deal with outliers"
   ]
  },
  {
   "cell_type": "code",
   "execution_count": 2777,
   "id": "72917398-0a67-4b34-aa63-435271ab8d8f",
   "metadata": {},
   "outputs": [
    {
     "data": {
      "text/plain": [
       "Index(['area_type', 'availability', 'location', 'size', 'total_sqft', 'bath',\n",
       "       'price', 'location_target_enc', 'area_type_enc'],\n",
       "      dtype='object')"
      ]
     },
     "execution_count": 2777,
     "metadata": {},
     "output_type": "execute_result"
    }
   ],
   "source": [
    "data.columns"
   ]
  },
  {
   "cell_type": "code",
   "execution_count": 2778,
   "id": "459749a7-120d-4bf0-b8eb-8f789c8e6b1b",
   "metadata": {},
   "outputs": [],
   "source": [
    "cols=['size','total_sqft','bath', 'location_target_enc', 'area_type_enc']"
   ]
  },
  {
   "cell_type": "code",
   "execution_count": 2779,
   "id": "095a21c2-f5ef-403e-81a0-68ed187fa2a4",
   "metadata": {},
   "outputs": [
    {
     "data": {
      "image/png": "[encoded data removed]",
      "text/plain": [
       "<Figure size 400x300 with 1 Axes>"
      ]
     },
     "metadata": {},
     "output_type": "display_data"
    },
    {
     "data": {
      "image/png": "[encoded data removed]",
      "text/plain": [
       "<Figure size 400x300 with 1 Axes>"
      ]
     },
     "metadata": {},
     "output_type": "display_data"
    },
    {
     "data": {
      "image/png": "[encoded data removed]",
      "text/plain": [
       "<Figure size 400x300 with 1 Axes>"
      ]
     },
     "metadata": {},
     "output_type": "display_data"
    },
    {
     "data": {
      "image/png": "[encoded data removed]",
      "text/plain": [
       "<Figure size 400x300 with 1 Axes>"
      ]
     },
     "metadata": {},
     "output_type": "display_data"
    },
    {
     "data": {
      "image/png": "[encoded data removed]",
      "text/plain": [
       "<Figure size 400x300 with 1 Axes>"
      ]
     },
     "metadata": {},
     "output_type": "display_data"
    }
   ],
   "source": [
    "for col in cols:\n",
    "    plt.figure(figsize=(4,3))\n",
    "    sns.boxplot(data[col])\n",
    "    plt.show()"
   ]
  },
  {
   "cell_type": "code",
   "execution_count": 2780,
   "id": "b66c934e-7038-4f5a-b210-389a63a77837",
   "metadata": {},
   "outputs": [
    {
     "data": {
      "text/plain": [
       "839"
      ]
     },
     "execution_count": 2780,
     "metadata": {},
     "output_type": "execute_result"
    }
   ],
   "source": [
    "data.loc[data['size']>=5,'size'].count()"
   ]
  },
  {
   "cell_type": "markdown",
   "id": "247c0a14-2cf3-4ab3-a2da-8fe7da981f12",
   "metadata": {},
   "source": [
    "# This IQR method will clip the values between the range of upper and lower bound values above upper will become equal to upper and same for lower"
   ]
  },
  {
   "cell_type": "code",
   "execution_count": 2782,
   "id": "50230e49-fdc9-48a8-bf02-e5f1b1cb5163",
   "metadata": {},
   "outputs": [],
   "source": [
    "def iqr_clip(Data,col):\n",
    "    # Quartiles\n",
    "    q1 = Data[col].quantile(0.25)\n",
    "    q2 = Data[col].quantile(0.50)  # median (optional)\n",
    "    q3 = Data[col].quantile(0.75)\n",
    "    \n",
    "    # IQR\n",
    "    iqr = q3 - q1\n",
    "    lower = q1 - (1.5 * iqr)\n",
    "    upper = q3 + (1.5 * iqr)\n",
    "    # Clip values\n",
    "    Data[col] = Data[col].astype('float').clip(lower, upper)\n",
    "    \n",
    "    return Data\n"
   ]
  },
  {
   "cell_type": "code",
   "execution_count": 2783,
   "id": "fe36686a-1d29-4ff9-b1a6-583fc54b8d67",
   "metadata": {},
   "outputs": [],
   "source": [
    "for col in cols:\n",
    "    iqr_clip(data,col)"
   ]
  },
  {
   "cell_type": "code",
   "execution_count": 2784,
   "id": "8d08f471-91b4-4c71-845c-6e4f16588297",
   "metadata": {},
   "outputs": [
    {
     "data": {
      "image/png": "[encoded data removed]",
      "text/plain": [
       "<Figure size 400x300 with 1 Axes>"
      ]
     },
     "metadata": {},
     "output_type": "display_data"
    },
    {
     "data": {
      "image/png": "[encoded data removed]",
      "text/plain": [
       "<Figure size 400x300 with 1 Axes>"
      ]
     },
     "metadata": {},
     "output_type": "display_data"
    },
    {
     "data": {
      "image/png": "[encoded data removed]",
      "text/plain": [
       "<Figure size 400x300 with 1 Axes>"
      ]
     },
     "metadata": {},
     "output_type": "display_data"
    },
    {
     "data": {
      "image/png": "[encoded data removed]",
      "text/plain": [
       "<Figure size 400x300 with 1 Axes>"
      ]
     },
     "metadata": {},
     "output_type": "display_data"
    },
    {
     "data": {
      "image/png": "[encoded data removed]",
      "text/plain": [
       "<Figure size 400x300 with 1 Axes>"
      ]
     },
     "metadata": {},
     "output_type": "display_data"
    }
   ],
   "source": [
    "for col in cols:\n",
    "    plt.figure(figsize=(4,3))\n",
    "    sns.boxplot(data[col])\n",
    "    plt.show()"
   ]
  },
  {
   "cell_type": "markdown",
   "id": "c26fe514-3eea-4098-943f-06a44aba8034",
   "metadata": {},
   "source": [
    "# AS i have done with outlier we have to update the values of location_enc and area_enc"
   ]
  },
  {
   "cell_type": "code",
   "execution_count": 2786,
   "id": "dd38b416-e344-40bb-baac-43ac54b8ad87",
   "metadata": {},
   "outputs": [],
   "source": [
    "loc_price_mean = data.groupby('location')['price'].mean()\n",
    "data['location_target_enc'] = data['location'].map(loc_price_mean)\n",
    "loc_price_mean.to_csv(\"location_encoding.csv\", index=True)"
   ]
  },
  {
   "cell_type": "code",
   "execution_count": 2787,
   "id": "992dd610-8886-4432-a1e2-8ed978543378",
   "metadata": {},
   "outputs": [],
   "source": [
    "lc=pd.read_csv(r\"location_encoding.csv\")"
   ]
  },
  {
   "cell_type": "code",
   "execution_count": 2788,
   "id": "70833c66-fe42-46a2-a650-53e344c78fb1",
   "metadata": {},
   "outputs": [],
   "source": [
    "# lc"
   ]
  },
  {
   "cell_type": "code",
   "execution_count": 2789,
   "id": "5c894e92-c528-40a2-9541-f8434014cdd6",
   "metadata": {},
   "outputs": [
    {
     "data": {
      "text/plain": [
       "(array(['Super built-up  Area', 'Plot  Area', 'Built-up  Area',\n",
       "        'Carpet  Area'], dtype=object),\n",
       " array([ 93.03925456, 121.4682878 , 104.41086785,  89.50235632]))"
      ]
     },
     "execution_count": 2789,
     "metadata": {},
     "output_type": "execute_result"
    }
   ],
   "source": [
    "data['area_type'].unique(),data['area_type_enc'].unique()"
   ]
  },
  {
   "cell_type": "code",
   "execution_count": 2790,
   "id": "3e679a9b-2a48-4af7-abce-94fd8dd06553",
   "metadata": {},
   "outputs": [],
   "source": [
    "area_type_mean = data.groupby('area_type')['price'].mean()\n",
    "data['area_type_enc'] = data['area_type'].map(area_type_mean)\n",
    "area_type_mean.to_csv(\"area_encoding.csv\", index=True)"
   ]
  },
  {
   "cell_type": "code",
   "execution_count": 2791,
   "id": "8c2e33c3-f3a4-4ce5-8952-ec52bdc000c1",
   "metadata": {},
   "outputs": [
    {
     "data": {
      "image/png": "[encoded data removed]",
      "text/plain": [
       "<Figure size 1200x500 with 2 Axes>"
      ]
     },
     "metadata": {},
     "output_type": "display_data"
    }
   ],
   "source": [
    "# Before log (with outliers)\n",
    "plt.figure(figsize=(12,5))\n",
    "plt.subplot(1,2,1)\n",
    "plt.boxplot(data['price'])\n",
    "plt.title(\"Price with Outliers\")\n",
    "\n",
    "# After log transform\n",
    "plt.subplot(1,2,2)\n",
    "plt.boxplot(np.log1p(data['price']))\n",
    "plt.title(\"Log(Price) - Outliers Reduced\")\n",
    "\n",
    "plt.show()"
   ]
  },
  {
   "cell_type": "markdown",
   "id": "11f53e78-d37f-4e14-82d8-1a048f27d2fb",
   "metadata": {},
   "source": [
    "# Now for output col(price) i'm using log transform so that my model can also predict for higher prices"
   ]
  },
  {
   "cell_type": "code",
   "execution_count": 2793,
   "id": "21f9a6ce-43ce-4ee2-a3ee-210b3301138c",
   "metadata": {},
   "outputs": [],
   "source": [
    "data['price']=np.log1p(data['price'])"
   ]
  },
  {
   "cell_type": "code",
   "execution_count": 2794,
   "id": "16f7be1c-4052-4139-be71-cb41dc6edbd9",
   "metadata": {},
   "outputs": [
    {
     "data": {
      "text/html": [
       "<div>\n",
       "<style scoped>\n",
       "    .dataframe tbody tr th:only-of-type {\n",
       "        vertical-align: middle;\n",
       "    }\n",
       "\n",
       "    .dataframe tbody tr th {\n",
       "        vertical-align: top;\n",
       "    }\n",
       "\n",
       "    .dataframe thead th {\n",
       "        text-align: right;\n",
       "    }\n",
       "</style>\n",
       "<table border=\"1\" class=\"dataframe\">\n",
       "  <thead>\n",
       "    <tr style=\"text-align: right;\">\n",
       "      <th></th>\n",
       "      <th>area_type</th>\n",
       "      <th>availability</th>\n",
       "      <th>location</th>\n",
       "      <th>size</th>\n",
       "      <th>total_sqft</th>\n",
       "      <th>bath</th>\n",
       "      <th>price</th>\n",
       "      <th>location_target_enc</th>\n",
       "      <th>area_type_enc</th>\n",
       "    </tr>\n",
       "  </thead>\n",
       "  <tbody>\n",
       "    <tr>\n",
       "      <th>0</th>\n",
       "      <td>Super built-up  Area</td>\n",
       "      <td>19-Dec</td>\n",
       "      <td>Electronic City Phase II</td>\n",
       "      <td>2.0</td>\n",
       "      <td>1056.0</td>\n",
       "      <td>2.0</td>\n",
       "      <td>3.690628</td>\n",
       "      <td>47.406870</td>\n",
       "      <td>92.708660</td>\n",
       "    </tr>\n",
       "    <tr>\n",
       "      <th>1</th>\n",
       "      <td>Plot  Area</td>\n",
       "      <td>Ready To Move</td>\n",
       "      <td>Chikka Tirupathi</td>\n",
       "      <td>4.0</td>\n",
       "      <td>2525.0</td>\n",
       "      <td>4.5</td>\n",
       "      <td>4.795791</td>\n",
       "      <td>115.015882</td>\n",
       "      <td>209.619795</td>\n",
       "    </tr>\n",
       "    <tr>\n",
       "      <th>2</th>\n",
       "      <td>Built-up  Area</td>\n",
       "      <td>Ready To Move</td>\n",
       "      <td>Uttarahalli</td>\n",
       "      <td>3.0</td>\n",
       "      <td>1440.0</td>\n",
       "      <td>2.0</td>\n",
       "      <td>4.143135</td>\n",
       "      <td>61.252527</td>\n",
       "      <td>104.046848</td>\n",
       "    </tr>\n",
       "    <tr>\n",
       "      <th>3</th>\n",
       "      <td>Super built-up  Area</td>\n",
       "      <td>Ready To Move</td>\n",
       "      <td>Lingadheeranahalli</td>\n",
       "      <td>3.0</td>\n",
       "      <td>1521.0</td>\n",
       "      <td>3.0</td>\n",
       "      <td>4.564348</td>\n",
       "      <td>115.348261</td>\n",
       "      <td>92.708660</td>\n",
       "    </tr>\n",
       "    <tr>\n",
       "      <th>4</th>\n",
       "      <td>Super built-up  Area</td>\n",
       "      <td>Ready To Move</td>\n",
       "      <td>Kothanur</td>\n",
       "      <td>2.0</td>\n",
       "      <td>1200.0</td>\n",
       "      <td>2.0</td>\n",
       "      <td>3.951244</td>\n",
       "      <td>95.630303</td>\n",
       "      <td>92.708660</td>\n",
       "    </tr>\n",
       "  </tbody>\n",
       "</table>\n",
       "</div>"
      ],
      "text/plain": [
       "              area_type   availability                  location  size  \\\n",
       "0  Super built-up  Area         19-Dec  Electronic City Phase II   2.0   \n",
       "1            Plot  Area  Ready To Move          Chikka Tirupathi   4.0   \n",
       "2        Built-up  Area  Ready To Move               Uttarahalli   3.0   \n",
       "3  Super built-up  Area  Ready To Move        Lingadheeranahalli   3.0   \n",
       "4  Super built-up  Area  Ready To Move                  Kothanur   2.0   \n",
       "\n",
       "   total_sqft  bath     price  location_target_enc  area_type_enc  \n",
       "0      1056.0   2.0  3.690628            47.406870      92.708660  \n",
       "1      2525.0   4.5  4.795791           115.015882     209.619795  \n",
       "2      1440.0   2.0  4.143135            61.252527     104.046848  \n",
       "3      1521.0   3.0  4.564348           115.348261      92.708660  \n",
       "4      1200.0   2.0  3.951244            95.630303      92.708660  "
      ]
     },
     "execution_count": 2794,
     "metadata": {},
     "output_type": "execute_result"
    }
   ],
   "source": [
    "data.head()"
   ]
  },
  {
   "cell_type": "markdown",
   "id": "0cb811fe-fdb7-40e6-8f1a-9661bdb6b77d",
   "metadata": {},
   "source": [
    "# After this data preprocessing is complete"
   ]
  },
  {
   "cell_type": "code",
   "execution_count": 2796,
   "id": "bf756598-e477-43b1-a309-b6da25a6c835",
   "metadata": {},
   "outputs": [],
   "source": [
    "Model_data=data.drop(columns=['area_type', 'availability', 'location'])"
   ]
  },
  {
   "cell_type": "code",
   "execution_count": 2797,
   "id": "7faa4fce-3153-4f37-b5f0-0b1cf196f4cc",
   "metadata": {},
   "outputs": [
    {
     "data": {
      "text/html": [
       "<div>\n",
       "<style scoped>\n",
       "    .dataframe tbody tr th:only-of-type {\n",
       "        vertical-align: middle;\n",
       "    }\n",
       "\n",
       "    .dataframe tbody tr th {\n",
       "        vertical-align: top;\n",
       "    }\n",
       "\n",
       "    .dataframe thead th {\n",
       "        text-align: right;\n",
       "    }\n",
       "</style>\n",
       "<table border=\"1\" class=\"dataframe\">\n",
       "  <thead>\n",
       "    <tr style=\"text-align: right;\">\n",
       "      <th></th>\n",
       "      <th>size</th>\n",
       "      <th>total_sqft</th>\n",
       "      <th>bath</th>\n",
       "      <th>price</th>\n",
       "      <th>location_target_enc</th>\n",
       "      <th>area_type_enc</th>\n",
       "    </tr>\n",
       "  </thead>\n",
       "  <tbody>\n",
       "    <tr>\n",
       "      <th>0</th>\n",
       "      <td>2.0</td>\n",
       "      <td>1056.0</td>\n",
       "      <td>2.0</td>\n",
       "      <td>3.690628</td>\n",
       "      <td>47.406870</td>\n",
       "      <td>92.708660</td>\n",
       "    </tr>\n",
       "    <tr>\n",
       "      <th>1</th>\n",
       "      <td>4.0</td>\n",
       "      <td>2525.0</td>\n",
       "      <td>4.5</td>\n",
       "      <td>4.795791</td>\n",
       "      <td>115.015882</td>\n",
       "      <td>209.619795</td>\n",
       "    </tr>\n",
       "    <tr>\n",
       "      <th>2</th>\n",
       "      <td>3.0</td>\n",
       "      <td>1440.0</td>\n",
       "      <td>2.0</td>\n",
       "      <td>4.143135</td>\n",
       "      <td>61.252527</td>\n",
       "      <td>104.046848</td>\n",
       "    </tr>\n",
       "    <tr>\n",
       "      <th>3</th>\n",
       "      <td>3.0</td>\n",
       "      <td>1521.0</td>\n",
       "      <td>3.0</td>\n",
       "      <td>4.564348</td>\n",
       "      <td>115.348261</td>\n",
       "      <td>92.708660</td>\n",
       "    </tr>\n",
       "    <tr>\n",
       "      <th>4</th>\n",
       "      <td>2.0</td>\n",
       "      <td>1200.0</td>\n",
       "      <td>2.0</td>\n",
       "      <td>3.951244</td>\n",
       "      <td>95.630303</td>\n",
       "      <td>92.708660</td>\n",
       "    </tr>\n",
       "  </tbody>\n",
       "</table>\n",
       "</div>"
      ],
      "text/plain": [
       "   size  total_sqft  bath     price  location_target_enc  area_type_enc\n",
       "0   2.0      1056.0   2.0  3.690628            47.406870      92.708660\n",
       "1   4.0      2525.0   4.5  4.795791           115.015882     209.619795\n",
       "2   3.0      1440.0   2.0  4.143135            61.252527     104.046848\n",
       "3   3.0      1521.0   3.0  4.564348           115.348261      92.708660\n",
       "4   2.0      1200.0   2.0  3.951244            95.630303      92.708660"
      ]
     },
     "execution_count": 2797,
     "metadata": {},
     "output_type": "execute_result"
    }
   ],
   "source": [
    "Model_data.head()"
   ]
  },
  {
   "cell_type": "code",
   "execution_count": 2798,
   "id": "9ed2ef76-4a96-454f-a168-b5d35b57c71e",
   "metadata": {},
   "outputs": [],
   "source": [
    "x=Model_data.drop(columns='price')\n",
    "y=Model_data['price']"
   ]
  },
  {
   "cell_type": "code",
   "execution_count": 2799,
   "id": "fe11ee56-94bb-4431-969b-488aa6ec21c2",
   "metadata": {},
   "outputs": [],
   "source": [
    "# y"
   ]
  },
  {
   "cell_type": "code",
   "execution_count": 2800,
   "id": "e60fabd3-63a6-41ab-9ab9-ef7fdcc6251b",
   "metadata": {},
   "outputs": [],
   "source": [
    "from sklearn.model_selection import train_test_split\n",
    "x_test,x_train,y_test,y_train=train_test_split(x,y,test_size=0.3,random_state=42)"
   ]
  },
  {
   "cell_type": "code",
   "execution_count": 2801,
   "id": "1e70983d-38c8-4a13-9084-95aeb3eb82ab",
   "metadata": {},
   "outputs": [],
   "source": [
    "from sklearn.preprocessing import StandardScaler\n",
    "scaler = StandardScaler()\n",
    "\n",
    "# Fit on training data only\n",
    "x_train_scaled = scaler.fit_transform(x_train)\n",
    "\n",
    "# Use the same scaler to transform test data\n",
    "x_test_scaled = scaler.transform(x_test)"
   ]
  },
  {
   "cell_type": "code",
   "execution_count": 2802,
   "id": "9a1b1f4d-32c6-4f26-810f-73984a5b04ac",
   "metadata": {},
   "outputs": [
    {
     "data": {
      "text/plain": [
       "array([[ 0.36362346, -1.52094311, -0.64612368,  0.17176582,  2.39345981],\n",
       "       [ 0.36362346,  0.52134387,  0.44827159, -0.68557399,  2.39345981],\n",
       "       [-0.79704507, -0.13745838, -0.64612368, -0.27278278, -0.46960265],\n",
       "       ...,\n",
       "       [ 1.52429199,  2.11990816,  1.54266685,  1.32787653,  2.39345981],\n",
       "       [ 0.36362346,  0.3275785 ,  0.44827159,  0.8420408 , -0.46960265],\n",
       "       [-1.9577136 , -1.87782016, -1.74051895, -0.83886516,  2.39345981]])"
      ]
     },
     "execution_count": 2802,
     "metadata": {},
     "output_type": "execute_result"
    }
   ],
   "source": [
    "x_train_scaled"
   ]
  },
  {
   "cell_type": "code",
   "execution_count": 2803,
   "id": "1910600b-6a7f-4b1e-9825-f9ec22456a4f",
   "metadata": {},
   "outputs": [],
   "source": [
    "y_scaler = StandardScaler()\n",
    "\n",
    "# Fit only on training y\n",
    "y_train_scaled = y_scaler.fit_transform(y_train.values.reshape(-1,1))\n",
    "\n",
    "# Transform test y\n",
    "y_test_scaled = y_scaler.transform(y_test.values.reshape(-1,1))"
   ]
  },
  {
   "cell_type": "markdown",
   "id": "78ddbd34-3eb3-44e8-9f97-ce2e20fbbf49",
   "metadata": {},
   "source": [
    "# First i'm going to Linear reg as baseline model lets how well it doing "
   ]
  },
  {
   "cell_type": "code",
   "execution_count": 2805,
   "id": "ed8b5572-e5c8-4a26-be94-7111f64360d8",
   "metadata": {},
   "outputs": [
    {
     "data": {
      "text/html": [
       "<style>#sk-container-id-20 {\n",
       "  /* Definition of color scheme common for light and dark mode */\n",
       "  --sklearn-color-text: black;\n",
       "  --sklearn-color-line: gray;\n",
       "  /* Definition of color scheme for unfitted estimators */\n",
       "  --sklearn-color-unfitted-level-0: #fff5e6;\n",
       "  --sklearn-color-unfitted-level-1: #f6e4d2;\n",
       "  --sklearn-color-unfitted-level-2: #ffe0b3;\n",
       "  --sklearn-color-unfitted-level-3: chocolate;\n",
       "  /* Definition of color scheme for fitted estimators */\n",
       "  --sklearn-color-fitted-level-0: #f0f8ff;\n",
       "  --sklearn-color-fitted-level-1: #d4ebff;\n",
       "  --sklearn-color-fitted-level-2: #b3dbfd;\n",
       "  --sklearn-color-fitted-level-3: cornflowerblue;\n",
       "\n",
       "  /* Specific color for light theme */\n",
       "  --sklearn-color-text-on-default-background: var(--sg-text-color, var(--theme-code-foreground, var(--jp-content-font-color1, black)));\n",
       "  --sklearn-color-background: var(--sg-background-color, var(--theme-background, var(--jp-layout-color0, white)));\n",
       "  --sklearn-color-border-box: var(--sg-text-color, var(--theme-code-foreground, var(--jp-content-font-color1, black)));\n",
       "  --sklearn-color-icon: #696969;\n",
       "\n",
       "  @media (prefers-color-scheme: dark) {\n",
       "    /* Redefinition of color scheme for dark theme */\n",
       "    --sklearn-color-text-on-default-background: var(--sg-text-color, var(--theme-code-foreground, var(--jp-content-font-color1, white)));\n",
       "    --sklearn-color-background: var(--sg-background-color, var(--theme-background, var(--jp-layout-color0, #111)));\n",
       "    --sklearn-color-border-box: var(--sg-text-color, var(--theme-code-foreground, var(--jp-content-font-color1, white)));\n",
       "    --sklearn-color-icon: #878787;\n",
       "  }\n",
       "}\n",
       "\n",
       "#sk-container-id-20 {\n",
       "  color: var(--sklearn-color-text);\n",
       "}\n",
       "\n",
       "#sk-container-id-20 pre {\n",
       "  padding: 0;\n",
       "}\n",
       "\n",
       "#sk-container-id-20 input.sk-hidden--visually {\n",
       "  border: 0;\n",
       "  clip: rect(1px 1px 1px 1px);\n",
       "  clip: rect(1px, 1px, 1px, 1px);\n",
       "  height: 1px;\n",
       "  margin: -1px;\n",
       "  overflow: hidden;\n",
       "  padding: 0;\n",
       "  position: absolute;\n",
       "  width: 1px;\n",
       "}\n",
       "\n",
       "#sk-container-id-20 div.sk-dashed-wrapped {\n",
       "  border: 1px dashed var(--sklearn-color-line);\n",
       "  margin: 0 0.4em 0.5em 0.4em;\n",
       "  box-sizing: border-box;\n",
       "  padding-bottom: 0.4em;\n",
       "  background-color: var(--sklearn-color-background);\n",
       "}\n",
       "\n",
       "#sk-container-id-20 div.sk-container {\n",
       "  /* jupyter's `normalize.less` sets `[hidden] { display: none; }`\n",
       "     but bootstrap.min.css set `[hidden] { display: none !important; }`\n",
       "     so we also need the `!important` here to be able to override the\n",
       "     default hidden behavior on the sphinx rendered scikit-learn.org.\n",
       "     See: https://github.com/scikit-learn/scikit-learn/issues/21755 */\n",
       "  display: inline-block !important;\n",
       "  position: relative;\n",
       "}\n",
       "\n",
       "#sk-container-id-20 div.sk-text-repr-fallback {\n",
       "  display: none;\n",
       "}\n",
       "\n",
       "div.sk-parallel-item,\n",
       "div.sk-serial,\n",
       "div.sk-item {\n",
       "  /* draw centered vertical line to link estimators */\n",
       "  background-image: linear-gradient(var(--sklearn-color-text-on-default-background), var(--sklearn-color-text-on-default-background));\n",
       "  background-size: 2px 100%;\n",
       "  background-repeat: no-repeat;\n",
       "  background-position: center center;\n",
       "}\n",
       "\n",
       "/* Parallel-specific style estimator block */\n",
       "\n",
       "#sk-container-id-20 div.sk-parallel-item::after {\n",
       "  content: \"\";\n",
       "  width: 100%;\n",
       "  border-bottom: 2px solid var(--sklearn-color-text-on-default-background);\n",
       "  flex-grow: 1;\n",
       "}\n",
       "\n",
       "#sk-container-id-20 div.sk-parallel {\n",
       "  display: flex;\n",
       "  align-items: stretch;\n",
       "  justify-content: center;\n",
       "  background-color: var(--sklearn-color-background);\n",
       "  position: relative;\n",
       "}\n",
       "\n",
       "#sk-container-id-20 div.sk-parallel-item {\n",
       "  display: flex;\n",
       "  flex-direction: column;\n",
       "}\n",
       "\n",
       "#sk-container-id-20 div.sk-parallel-item:first-child::after {\n",
       "  align-self: flex-end;\n",
       "  width: 50%;\n",
       "}\n",
       "\n",
       "#sk-container-id-20 div.sk-parallel-item:last-child::after {\n",
       "  align-self: flex-start;\n",
       "  width: 50%;\n",
       "}\n",
       "\n",
       "#sk-container-id-20 div.sk-parallel-item:only-child::after {\n",
       "  width: 0;\n",
       "}\n",
       "\n",
       "/* Serial-specific style estimator block */\n",
       "\n",
       "#sk-container-id-20 div.sk-serial {\n",
       "  display: flex;\n",
       "  flex-direction: column;\n",
       "  align-items: center;\n",
       "  background-color: var(--sklearn-color-background);\n",
       "  padding-right: 1em;\n",
       "  padding-left: 1em;\n",
       "}\n",
       "\n",
       "\n",
       "/* Toggleable style: style used for estimator/Pipeline/ColumnTransformer box that is\n",
       "clickable and can be expanded/collapsed.\n",
       "- Pipeline and ColumnTransformer use this feature and define the default style\n",
       "- Estimators will overwrite some part of the style using the `sk-estimator` class\n",
       "*/\n",
       "\n",
       "/* Pipeline and ColumnTransformer style (default) */\n",
       "\n",
       "#sk-container-id-20 div.sk-toggleable {\n",
       "  /* Default theme specific background. It is overwritten whether we have a\n",
       "  specific estimator or a Pipeline/ColumnTransformer */\n",
       "  background-color: var(--sklearn-color-background);\n",
       "}\n",
       "\n",
       "/* Toggleable label */\n",
       "#sk-container-id-20 label.sk-toggleable__label {\n",
       "  cursor: pointer;\n",
       "  display: block;\n",
       "  width: 100%;\n",
       "  margin-bottom: 0;\n",
       "  padding: 0.5em;\n",
       "  box-sizing: border-box;\n",
       "  text-align: center;\n",
       "}\n",
       "\n",
       "#sk-container-id-20 label.sk-toggleable__label-arrow:before {\n",
       "  /* Arrow on the left of the label */\n",
       "  content: \"▸\";\n",
       "  float: left;\n",
       "  margin-right: 0.25em;\n",
       "  color: var(--sklearn-color-icon);\n",
       "}\n",
       "\n",
       "#sk-container-id-20 label.sk-toggleable__label-arrow:hover:before {\n",
       "  color: var(--sklearn-color-text);\n",
       "}\n",
       "\n",
       "/* Toggleable content - dropdown */\n",
       "\n",
       "#sk-container-id-20 div.sk-toggleable__content {\n",
       "  max-height: 0;\n",
       "  max-width: 0;\n",
       "  overflow: hidden;\n",
       "  text-align: left;\n",
       "  /* unfitted */\n",
       "  background-color: var(--sklearn-color-unfitted-level-0);\n",
       "}\n",
       "\n",
       "#sk-container-id-20 div.sk-toggleable__content.fitted {\n",
       "  /* fitted */\n",
       "  background-color: var(--sklearn-color-fitted-level-0);\n",
       "}\n",
       "\n",
       "#sk-container-id-20 div.sk-toggleable__content pre {\n",
       "  margin: 0.2em;\n",
       "  border-radius: 0.25em;\n",
       "  color: var(--sklearn-color-text);\n",
       "  /* unfitted */\n",
       "  background-color: var(--sklearn-color-unfitted-level-0);\n",
       "}\n",
       "\n",
       "#sk-container-id-20 div.sk-toggleable__content.fitted pre {\n",
       "  /* unfitted */\n",
       "  background-color: var(--sklearn-color-fitted-level-0);\n",
       "}\n",
       "\n",
       "#sk-container-id-20 input.sk-toggleable__control:checked~div.sk-toggleable__content {\n",
       "  /* Expand drop-down */\n",
       "  max-height: 200px;\n",
       "  max-width: 100%;\n",
       "  overflow: auto;\n",
       "}\n",
       "\n",
       "#sk-container-id-20 input.sk-toggleable__control:checked~label.sk-toggleable__label-arrow:before {\n",
       "  content: \"▾\";\n",
       "}\n",
       "\n",
       "/* Pipeline/ColumnTransformer-specific style */\n",
       "\n",
       "#sk-container-id-20 div.sk-label input.sk-toggleable__control:checked~label.sk-toggleable__label {\n",
       "  color: var(--sklearn-color-text);\n",
       "  background-color: var(--sklearn-color-unfitted-level-2);\n",
       "}\n",
       "\n",
       "#sk-container-id-20 div.sk-label.fitted input.sk-toggleable__control:checked~label.sk-toggleable__label {\n",
       "  background-color: var(--sklearn-color-fitted-level-2);\n",
       "}\n",
       "\n",
       "/* Estimator-specific style */\n",
       "\n",
       "/* Colorize estimator box */\n",
       "#sk-container-id-20 div.sk-estimator input.sk-toggleable__control:checked~label.sk-toggleable__label {\n",
       "  /* unfitted */\n",
       "  background-color: var(--sklearn-color-unfitted-level-2);\n",
       "}\n",
       "\n",
       "#sk-container-id-20 div.sk-estimator.fitted input.sk-toggleable__control:checked~label.sk-toggleable__label {\n",
       "  /* fitted */\n",
       "  background-color: var(--sklearn-color-fitted-level-2);\n",
       "}\n",
       "\n",
       "#sk-container-id-20 div.sk-label label.sk-toggleable__label,\n",
       "#sk-container-id-20 div.sk-label label {\n",
       "  /* The background is the default theme color */\n",
       "  color: var(--sklearn-color-text-on-default-background);\n",
       "}\n",
       "\n",
       "/* On hover, darken the color of the background */\n",
       "#sk-container-id-20 div.sk-label:hover label.sk-toggleable__label {\n",
       "  color: var(--sklearn-color-text);\n",
       "  background-color: var(--sklearn-color-unfitted-level-2);\n",
       "}\n",
       "\n",
       "/* Label box, darken color on hover, fitted */\n",
       "#sk-container-id-20 div.sk-label.fitted:hover label.sk-toggleable__label.fitted {\n",
       "  color: var(--sklearn-color-text);\n",
       "  background-color: var(--sklearn-color-fitted-level-2);\n",
       "}\n",
       "\n",
       "/* Estimator label */\n",
       "\n",
       "#sk-container-id-20 div.sk-label label {\n",
       "  font-family: monospace;\n",
       "  font-weight: bold;\n",
       "  display: inline-block;\n",
       "  line-height: 1.2em;\n",
       "}\n",
       "\n",
       "#sk-container-id-20 div.sk-label-container {\n",
       "  text-align: center;\n",
       "}\n",
       "\n",
       "/* Estimator-specific */\n",
       "#sk-container-id-20 div.sk-estimator {\n",
       "  font-family: monospace;\n",
       "  border: 1px dotted var(--sklearn-color-border-box);\n",
       "  border-radius: 0.25em;\n",
       "  box-sizing: border-box;\n",
       "  margin-bottom: 0.5em;\n",
       "  /* unfitted */\n",
       "  background-color: var(--sklearn-color-unfitted-level-0);\n",
       "}\n",
       "\n",
       "#sk-container-id-20 div.sk-estimator.fitted {\n",
       "  /* fitted */\n",
       "  background-color: var(--sklearn-color-fitted-level-0);\n",
       "}\n",
       "\n",
       "/* on hover */\n",
       "#sk-container-id-20 div.sk-estimator:hover {\n",
       "  /* unfitted */\n",
       "  background-color: var(--sklearn-color-unfitted-level-2);\n",
       "}\n",
       "\n",
       "#sk-container-id-20 div.sk-estimator.fitted:hover {\n",
       "  /* fitted */\n",
       "  background-color: var(--sklearn-color-fitted-level-2);\n",
       "}\n",
       "\n",
       "/* Specification for estimator info (e.g. \"i\" and \"?\") */\n",
       "\n",
       "/* Common style for \"i\" and \"?\" */\n",
       "\n",
       ".sk-estimator-doc-link,\n",
       "a:link.sk-estimator-doc-link,\n",
       "a:visited.sk-estimator-doc-link {\n",
       "  float: right;\n",
       "  font-size: smaller;\n",
       "  line-height: 1em;\n",
       "  font-family: monospace;\n",
       "  background-color: var(--sklearn-color-background);\n",
       "  border-radius: 1em;\n",
       "  height: 1em;\n",
       "  width: 1em;\n",
       "  text-decoration: none !important;\n",
       "  margin-left: 1ex;\n",
       "  /* unfitted */\n",
       "  border: var(--sklearn-color-unfitted-level-1) 1pt solid;\n",
       "  color: var(--sklearn-color-unfitted-level-1);\n",
       "}\n",
       "\n",
       ".sk-estimator-doc-link.fitted,\n",
       "a:link.sk-estimator-doc-link.fitted,\n",
       "a:visited.sk-estimator-doc-link.fitted {\n",
       "  /* fitted */\n",
       "  border: var(--sklearn-color-fitted-level-1) 1pt solid;\n",
       "  color: var(--sklearn-color-fitted-level-1);\n",
       "}\n",
       "\n",
       "/* On hover */\n",
       "div.sk-estimator:hover .sk-estimator-doc-link:hover,\n",
       ".sk-estimator-doc-link:hover,\n",
       "div.sk-label-container:hover .sk-estimator-doc-link:hover,\n",
       ".sk-estimator-doc-link:hover {\n",
       "  /* unfitted */\n",
       "  background-color: var(--sklearn-color-unfitted-level-3);\n",
       "  color: var(--sklearn-color-background);\n",
       "  text-decoration: none;\n",
       "}\n",
       "\n",
       "div.sk-estimator.fitted:hover .sk-estimator-doc-link.fitted:hover,\n",
       ".sk-estimator-doc-link.fitted:hover,\n",
       "div.sk-label-container:hover .sk-estimator-doc-link.fitted:hover,\n",
       ".sk-estimator-doc-link.fitted:hover {\n",
       "  /* fitted */\n",
       "  background-color: var(--sklearn-color-fitted-level-3);\n",
       "  color: var(--sklearn-color-background);\n",
       "  text-decoration: none;\n",
       "}\n",
       "\n",
       "/* Span, style for the box shown on hovering the info icon */\n",
       ".sk-estimator-doc-link span {\n",
       "  display: none;\n",
       "  z-index: 9999;\n",
       "  position: relative;\n",
       "  font-weight: normal;\n",
       "  right: .2ex;\n",
       "  padding: .5ex;\n",
       "  margin: .5ex;\n",
       "  width: min-content;\n",
       "  min-width: 20ex;\n",
       "  max-width: 50ex;\n",
       "  color: var(--sklearn-color-text);\n",
       "  box-shadow: 2pt 2pt 4pt #999;\n",
       "  /* unfitted */\n",
       "  background: var(--sklearn-color-unfitted-level-0);\n",
       "  border: .5pt solid var(--sklearn-color-unfitted-level-3);\n",
       "}\n",
       "\n",
       ".sk-estimator-doc-link.fitted span {\n",
       "  /* fitted */\n",
       "  background: var(--sklearn-color-fitted-level-0);\n",
       "  border: var(--sklearn-color-fitted-level-3);\n",
       "}\n",
       "\n",
       ".sk-estimator-doc-link:hover span {\n",
       "  display: block;\n",
       "}\n",
       "\n",
       "/* \"?\"-specific style due to the `<a>` HTML tag */\n",
       "\n",
       "#sk-container-id-20 a.estimator_doc_link {\n",
       "  float: right;\n",
       "  font-size: 1rem;\n",
       "  line-height: 1em;\n",
       "  font-family: monospace;\n",
       "  background-color: var(--sklearn-color-background);\n",
       "  border-radius: 1rem;\n",
       "  height: 1rem;\n",
       "  width: 1rem;\n",
       "  text-decoration: none;\n",
       "  /* unfitted */\n",
       "  color: var(--sklearn-color-unfitted-level-1);\n",
       "  border: var(--sklearn-color-unfitted-level-1) 1pt solid;\n",
       "}\n",
       "\n",
       "#sk-container-id-20 a.estimator_doc_link.fitted {\n",
       "  /* fitted */\n",
       "  border: var(--sklearn-color-fitted-level-1) 1pt solid;\n",
       "  color: var(--sklearn-color-fitted-level-1);\n",
       "}\n",
       "\n",
       "/* On hover */\n",
       "#sk-container-id-20 a.estimator_doc_link:hover {\n",
       "  /* unfitted */\n",
       "  background-color: var(--sklearn-color-unfitted-level-3);\n",
       "  color: var(--sklearn-color-background);\n",
       "  text-decoration: none;\n",
       "}\n",
       "\n",
       "#sk-container-id-20 a.estimator_doc_link.fitted:hover {\n",
       "  /* fitted */\n",
       "  background-color: var(--sklearn-color-fitted-level-3);\n",
       "}\n",
       "</style><div id=\"sk-container-id-20\" class=\"sk-top-container\"><div class=\"sk-text-repr-fallback\"><pre>LinearRegression()</pre><b>In a Jupyter environment, please rerun this cell to show the HTML representation or trust the notebook. <br />On GitHub, the HTML representation is unable to render, please try loading this page with nbviewer.org.</b></div><div class=\"sk-container\" hidden><div class=\"sk-item\"><div class=\"sk-estimator fitted sk-toggleable\"><input class=\"sk-toggleable__control sk-hidden--visually\" id=\"sk-estimator-id-20\" type=\"checkbox\" checked><label for=\"sk-estimator-id-20\" class=\"sk-toggleable__label fitted sk-toggleable__label-arrow fitted\">&nbsp;&nbsp;LinearRegression<a class=\"sk-estimator-doc-link fitted\" rel=\"noreferrer\" target=\"_blank\" href=\"https://scikit-learn.org/1.4/modules/generated/sklearn.linear_model.LinearRegression.html\">?<span>Documentation for LinearRegression</span></a><span class=\"sk-estimator-doc-link fitted\">i<span>Fitted</span></span></label><div class=\"sk-toggleable__content fitted\"><pre>LinearRegression()</pre></div> </div></div></div></div>"
      ],
      "text/plain": [
       "LinearRegression()"
      ]
     },
     "execution_count": 2805,
     "metadata": {},
     "output_type": "execute_result"
    }
   ],
   "source": [
    "from sklearn.linear_model import LinearRegression\n",
    "lr=LinearRegression()\n",
    "lr.fit(x_train_scaled,y_train_scaled)"
   ]
  },
  {
   "cell_type": "code",
   "execution_count": 2806,
   "id": "9dbd8a8f-8771-456c-acf9-e2726b2e66e1",
   "metadata": {},
   "outputs": [
    {
     "data": {
      "text/plain": [
       "(0.7765418285129029, 0.7866955624138532)"
      ]
     },
     "execution_count": 2806,
     "metadata": {},
     "output_type": "execute_result"
    }
   ],
   "source": [
    "lr.score(x_test_scaled,y_test_scaled),lr.score(x_train_scaled,y_train_scaled)"
   ]
  },
  {
   "cell_type": "markdown",
   "id": "7bc0cf52-6d42-4a12-87c5-16c582c95c68",
   "metadata": {},
   "source": [
    "# Now to calculate all the performance metrices"
   ]
  },
  {
   "cell_type": "code",
   "execution_count": 2808,
   "id": "dc5be9c5-5a40-4413-bacc-bdbe38f96a17",
   "metadata": {},
   "outputs": [
    {
     "name": "stdout",
     "output_type": "stream",
     "text": [
      "Train Metrics:\n",
      "MAE: 4.4152, MSE: 19.6194, RMSE: 4.4294, R²: 0.7867\n",
      "\n",
      "Test Metrics:\n",
      "MAE: 4.4182, MSE: 19.7045, RMSE: 4.4390, R²: 0.7765\n"
     ]
    }
   ],
   "source": [
    "from sklearn.metrics import mean_absolute_error, mean_squared_error, r2_score\n",
    "import numpy as np\n",
    "\n",
    "# Predictions\n",
    "y_train_pred_lr = lr.predict(x_train_scaled)\n",
    "y_test_pred_lr  = lr.predict(x_test_scaled)\n",
    "\n",
    "# Train metrics\n",
    "train_mae = mean_absolute_error(y_train, y_train_pred_lr)\n",
    "train_mse = mean_squared_error(y_train, y_train_pred)\n",
    "train_rmse = np.sqrt(train_mse)\n",
    "train_r2 = r2_score(y_train_scaled, y_train_pred_lr)\n",
    "\n",
    "# Test metrics\n",
    "test_mae = mean_absolute_error(y_test, y_test_pred_lr)\n",
    "test_mse = mean_squared_error(y_test, y_test_pred_lr)\n",
    "test_rmse = np.sqrt(test_mse)\n",
    "test_r2 = r2_score(y_test_scaled, y_test_pred_lr)\n",
    "\n",
    "print(\"Train Metrics:\")\n",
    "print(f\"MAE: {train_mae:.4f}, MSE: {train_mse:.4f}, RMSE: {train_rmse:.4f}, R²: {train_r2:.4f}\")\n",
    "\n",
    "print(\"\\nTest Metrics:\")\n",
    "print(f\"MAE: {test_mae:.4f}, MSE: {test_mse:.4f}, RMSE: {test_rmse:.4f}, R²: {test_r2:.4f}\")\n"
   ]
  },
  {
   "cell_type": "markdown",
   "id": "4c84a01f-5223-4a11-b25e-3e17fd135282",
   "metadata": {},
   "source": [
    "# I got 78percent to score which is good But i can improve this using Xg boost "
   ]
  },
  {
   "cell_type": "code",
   "execution_count": 2810,
   "id": "49c10f00-baaf-47a6-94cb-ff0168a99029",
   "metadata": {},
   "outputs": [
    {
     "data": {
      "text/html": [
       "<style>#sk-container-id-21 {\n",
       "  /* Definition of color scheme common for light and dark mode */\n",
       "  --sklearn-color-text: black;\n",
       "  --sklearn-color-line: gray;\n",
       "  /* Definition of color scheme for unfitted estimators */\n",
       "  --sklearn-color-unfitted-level-0: #fff5e6;\n",
       "  --sklearn-color-unfitted-level-1: #f6e4d2;\n",
       "  --sklearn-color-unfitted-level-2: #ffe0b3;\n",
       "  --sklearn-color-unfitted-level-3: chocolate;\n",
       "  /* Definition of color scheme for fitted estimators */\n",
       "  --sklearn-color-fitted-level-0: #f0f8ff;\n",
       "  --sklearn-color-fitted-level-1: #d4ebff;\n",
       "  --sklearn-color-fitted-level-2: #b3dbfd;\n",
       "  --sklearn-color-fitted-level-3: cornflowerblue;\n",
       "\n",
       "  /* Specific color for light theme */\n",
       "  --sklearn-color-text-on-default-background: var(--sg-text-color, var(--theme-code-foreground, var(--jp-content-font-color1, black)));\n",
       "  --sklearn-color-background: var(--sg-background-color, var(--theme-background, var(--jp-layout-color0, white)));\n",
       "  --sklearn-color-border-box: var(--sg-text-color, var(--theme-code-foreground, var(--jp-content-font-color1, black)));\n",
       "  --sklearn-color-icon: #696969;\n",
       "\n",
       "  @media (prefers-color-scheme: dark) {\n",
       "    /* Redefinition of color scheme for dark theme */\n",
       "    --sklearn-color-text-on-default-background: var(--sg-text-color, var(--theme-code-foreground, var(--jp-content-font-color1, white)));\n",
       "    --sklearn-color-background: var(--sg-background-color, var(--theme-background, var(--jp-layout-color0, #111)));\n",
       "    --sklearn-color-border-box: var(--sg-text-color, var(--theme-code-foreground, var(--jp-content-font-color1, white)));\n",
       "    --sklearn-color-icon: #878787;\n",
       "  }\n",
       "}\n",
       "\n",
       "#sk-container-id-21 {\n",
       "  color: var(--sklearn-color-text);\n",
       "}\n",
       "\n",
       "#sk-container-id-21 pre {\n",
       "  padding: 0;\n",
       "}\n",
       "\n",
       "#sk-container-id-21 input.sk-hidden--visually {\n",
       "  border: 0;\n",
       "  clip: rect(1px 1px 1px 1px);\n",
       "  clip: rect(1px, 1px, 1px, 1px);\n",
       "  height: 1px;\n",
       "  margin: -1px;\n",
       "  overflow: hidden;\n",
       "  padding: 0;\n",
       "  position: absolute;\n",
       "  width: 1px;\n",
       "}\n",
       "\n",
       "#sk-container-id-21 div.sk-dashed-wrapped {\n",
       "  border: 1px dashed var(--sklearn-color-line);\n",
       "  margin: 0 0.4em 0.5em 0.4em;\n",
       "  box-sizing: border-box;\n",
       "  padding-bottom: 0.4em;\n",
       "  background-color: var(--sklearn-color-background);\n",
       "}\n",
       "\n",
       "#sk-container-id-21 div.sk-container {\n",
       "  /* jupyter's `normalize.less` sets `[hidden] { display: none; }`\n",
       "     but bootstrap.min.css set `[hidden] { display: none !important; }`\n",
       "     so we also need the `!important` here to be able to override the\n",
       "     default hidden behavior on the sphinx rendered scikit-learn.org.\n",
       "     See: https://github.com/scikit-learn/scikit-learn/issues/21755 */\n",
       "  display: inline-block !important;\n",
       "  position: relative;\n",
       "}\n",
       "\n",
       "#sk-container-id-21 div.sk-text-repr-fallback {\n",
       "  display: none;\n",
       "}\n",
       "\n",
       "div.sk-parallel-item,\n",
       "div.sk-serial,\n",
       "div.sk-item {\n",
       "  /* draw centered vertical line to link estimators */\n",
       "  background-image: linear-gradient(var(--sklearn-color-text-on-default-background), var(--sklearn-color-text-on-default-background));\n",
       "  background-size: 2px 100%;\n",
       "  background-repeat: no-repeat;\n",
       "  background-position: center center;\n",
       "}\n",
       "\n",
       "/* Parallel-specific style estimator block */\n",
       "\n",
       "#sk-container-id-21 div.sk-parallel-item::after {\n",
       "  content: \"\";\n",
       "  width: 100%;\n",
       "  border-bottom: 2px solid var(--sklearn-color-text-on-default-background);\n",
       "  flex-grow: 1;\n",
       "}\n",
       "\n",
       "#sk-container-id-21 div.sk-parallel {\n",
       "  display: flex;\n",
       "  align-items: stretch;\n",
       "  justify-content: center;\n",
       "  background-color: var(--sklearn-color-background);\n",
       "  position: relative;\n",
       "}\n",
       "\n",
       "#sk-container-id-21 div.sk-parallel-item {\n",
       "  display: flex;\n",
       "  flex-direction: column;\n",
       "}\n",
       "\n",
       "#sk-container-id-21 div.sk-parallel-item:first-child::after {\n",
       "  align-self: flex-end;\n",
       "  width: 50%;\n",
       "}\n",
       "\n",
       "#sk-container-id-21 div.sk-parallel-item:last-child::after {\n",
       "  align-self: flex-start;\n",
       "  width: 50%;\n",
       "}\n",
       "\n",
       "#sk-container-id-21 div.sk-parallel-item:only-child::after {\n",
       "  width: 0;\n",
       "}\n",
       "\n",
       "/* Serial-specific style estimator block */\n",
       "\n",
       "#sk-container-id-21 div.sk-serial {\n",
       "  display: flex;\n",
       "  flex-direction: column;\n",
       "  align-items: center;\n",
       "  background-color: var(--sklearn-color-background);\n",
       "  padding-right: 1em;\n",
       "  padding-left: 1em;\n",
       "}\n",
       "\n",
       "\n",
       "/* Toggleable style: style used for estimator/Pipeline/ColumnTransformer box that is\n",
       "clickable and can be expanded/collapsed.\n",
       "- Pipeline and ColumnTransformer use this feature and define the default style\n",
       "- Estimators will overwrite some part of the style using the `sk-estimator` class\n",
       "*/\n",
       "\n",
       "/* Pipeline and ColumnTransformer style (default) */\n",
       "\n",
       "#sk-container-id-21 div.sk-toggleable {\n",
       "  /* Default theme specific background. It is overwritten whether we have a\n",
       "  specific estimator or a Pipeline/ColumnTransformer */\n",
       "  background-color: var(--sklearn-color-background);\n",
       "}\n",
       "\n",
       "/* Toggleable label */\n",
       "#sk-container-id-21 label.sk-toggleable__label {\n",
       "  cursor: pointer;\n",
       "  display: block;\n",
       "  width: 100%;\n",
       "  margin-bottom: 0;\n",
       "  padding: 0.5em;\n",
       "  box-sizing: border-box;\n",
       "  text-align: center;\n",
       "}\n",
       "\n",
       "#sk-container-id-21 label.sk-toggleable__label-arrow:before {\n",
       "  /* Arrow on the left of the label */\n",
       "  content: \"▸\";\n",
       "  float: left;\n",
       "  margin-right: 0.25em;\n",
       "  color: var(--sklearn-color-icon);\n",
       "}\n",
       "\n",
       "#sk-container-id-21 label.sk-toggleable__label-arrow:hover:before {\n",
       "  color: var(--sklearn-color-text);\n",
       "}\n",
       "\n",
       "/* Toggleable content - dropdown */\n",
       "\n",
       "#sk-container-id-21 div.sk-toggleable__content {\n",
       "  max-height: 0;\n",
       "  max-width: 0;\n",
       "  overflow: hidden;\n",
       "  text-align: left;\n",
       "  /* unfitted */\n",
       "  background-color: var(--sklearn-color-unfitted-level-0);\n",
       "}\n",
       "\n",
       "#sk-container-id-21 div.sk-toggleable__content.fitted {\n",
       "  /* fitted */\n",
       "  background-color: var(--sklearn-color-fitted-level-0);\n",
       "}\n",
       "\n",
       "#sk-container-id-21 div.sk-toggleable__content pre {\n",
       "  margin: 0.2em;\n",
       "  border-radius: 0.25em;\n",
       "  color: var(--sklearn-color-text);\n",
       "  /* unfitted */\n",
       "  background-color: var(--sklearn-color-unfitted-level-0);\n",
       "}\n",
       "\n",
       "#sk-container-id-21 div.sk-toggleable__content.fitted pre {\n",
       "  /* unfitted */\n",
       "  background-color: var(--sklearn-color-fitted-level-0);\n",
       "}\n",
       "\n",
       "#sk-container-id-21 input.sk-toggleable__control:checked~div.sk-toggleable__content {\n",
       "  /* Expand drop-down */\n",
       "  max-height: 200px;\n",
       "  max-width: 100%;\n",
       "  overflow: auto;\n",
       "}\n",
       "\n",
       "#sk-container-id-21 input.sk-toggleable__control:checked~label.sk-toggleable__label-arrow:before {\n",
       "  content: \"▾\";\n",
       "}\n",
       "\n",
       "/* Pipeline/ColumnTransformer-specific style */\n",
       "\n",
       "#sk-container-id-21 div.sk-label input.sk-toggleable__control:checked~label.sk-toggleable__label {\n",
       "  color: var(--sklearn-color-text);\n",
       "  background-color: var(--sklearn-color-unfitted-level-2);\n",
       "}\n",
       "\n",
       "#sk-container-id-21 div.sk-label.fitted input.sk-toggleable__control:checked~label.sk-toggleable__label {\n",
       "  background-color: var(--sklearn-color-fitted-level-2);\n",
       "}\n",
       "\n",
       "/* Estimator-specific style */\n",
       "\n",
       "/* Colorize estimator box */\n",
       "#sk-container-id-21 div.sk-estimator input.sk-toggleable__control:checked~label.sk-toggleable__label {\n",
       "  /* unfitted */\n",
       "  background-color: var(--sklearn-color-unfitted-level-2);\n",
       "}\n",
       "\n",
       "#sk-container-id-21 div.sk-estimator.fitted input.sk-toggleable__control:checked~label.sk-toggleable__label {\n",
       "  /* fitted */\n",
       "  background-color: var(--sklearn-color-fitted-level-2);\n",
       "}\n",
       "\n",
       "#sk-container-id-21 div.sk-label label.sk-toggleable__label,\n",
       "#sk-container-id-21 div.sk-label label {\n",
       "  /* The background is the default theme color */\n",
       "  color: var(--sklearn-color-text-on-default-background);\n",
       "}\n",
       "\n",
       "/* On hover, darken the color of the background */\n",
       "#sk-container-id-21 div.sk-label:hover label.sk-toggleable__label {\n",
       "  color: var(--sklearn-color-text);\n",
       "  background-color: var(--sklearn-color-unfitted-level-2);\n",
       "}\n",
       "\n",
       "/* Label box, darken color on hover, fitted */\n",
       "#sk-container-id-21 div.sk-label.fitted:hover label.sk-toggleable__label.fitted {\n",
       "  color: var(--sklearn-color-text);\n",
       "  background-color: var(--sklearn-color-fitted-level-2);\n",
       "}\n",
       "\n",
       "/* Estimator label */\n",
       "\n",
       "#sk-container-id-21 div.sk-label label {\n",
       "  font-family: monospace;\n",
       "  font-weight: bold;\n",
       "  display: inline-block;\n",
       "  line-height: 1.2em;\n",
       "}\n",
       "\n",
       "#sk-container-id-21 div.sk-label-container {\n",
       "  text-align: center;\n",
       "}\n",
       "\n",
       "/* Estimator-specific */\n",
       "#sk-container-id-21 div.sk-estimator {\n",
       "  font-family: monospace;\n",
       "  border: 1px dotted var(--sklearn-color-border-box);\n",
       "  border-radius: 0.25em;\n",
       "  box-sizing: border-box;\n",
       "  margin-bottom: 0.5em;\n",
       "  /* unfitted */\n",
       "  background-color: var(--sklearn-color-unfitted-level-0);\n",
       "}\n",
       "\n",
       "#sk-container-id-21 div.sk-estimator.fitted {\n",
       "  /* fitted */\n",
       "  background-color: var(--sklearn-color-fitted-level-0);\n",
       "}\n",
       "\n",
       "/* on hover */\n",
       "#sk-container-id-21 div.sk-estimator:hover {\n",
       "  /* unfitted */\n",
       "  background-color: var(--sklearn-color-unfitted-level-2);\n",
       "}\n",
       "\n",
       "#sk-container-id-21 div.sk-estimator.fitted:hover {\n",
       "  /* fitted */\n",
       "  background-color: var(--sklearn-color-fitted-level-2);\n",
       "}\n",
       "\n",
       "/* Specification for estimator info (e.g. \"i\" and \"?\") */\n",
       "\n",
       "/* Common style for \"i\" and \"?\" */\n",
       "\n",
       ".sk-estimator-doc-link,\n",
       "a:link.sk-estimator-doc-link,\n",
       "a:visited.sk-estimator-doc-link {\n",
       "  float: right;\n",
       "  font-size: smaller;\n",
       "  line-height: 1em;\n",
       "  font-family: monospace;\n",
       "  background-color: var(--sklearn-color-background);\n",
       "  border-radius: 1em;\n",
       "  height: 1em;\n",
       "  width: 1em;\n",
       "  text-decoration: none !important;\n",
       "  margin-left: 1ex;\n",
       "  /* unfitted */\n",
       "  border: var(--sklearn-color-unfitted-level-1) 1pt solid;\n",
       "  color: var(--sklearn-color-unfitted-level-1);\n",
       "}\n",
       "\n",
       ".sk-estimator-doc-link.fitted,\n",
       "a:link.sk-estimator-doc-link.fitted,\n",
       "a:visited.sk-estimator-doc-link.fitted {\n",
       "  /* fitted */\n",
       "  border: var(--sklearn-color-fitted-level-1) 1pt solid;\n",
       "  color: var(--sklearn-color-fitted-level-1);\n",
       "}\n",
       "\n",
       "/* On hover */\n",
       "div.sk-estimator:hover .sk-estimator-doc-link:hover,\n",
       ".sk-estimator-doc-link:hover,\n",
       "div.sk-label-container:hover .sk-estimator-doc-link:hover,\n",
       ".sk-estimator-doc-link:hover {\n",
       "  /* unfitted */\n",
       "  background-color: var(--sklearn-color-unfitted-level-3);\n",
       "  color: var(--sklearn-color-background);\n",
       "  text-decoration: none;\n",
       "}\n",
       "\n",
       "div.sk-estimator.fitted:hover .sk-estimator-doc-link.fitted:hover,\n",
       ".sk-estimator-doc-link.fitted:hover,\n",
       "div.sk-label-container:hover .sk-estimator-doc-link.fitted:hover,\n",
       ".sk-estimator-doc-link.fitted:hover {\n",
       "  /* fitted */\n",
       "  background-color: var(--sklearn-color-fitted-level-3);\n",
       "  color: var(--sklearn-color-background);\n",
       "  text-decoration: none;\n",
       "}\n",
       "\n",
       "/* Span, style for the box shown on hovering the info icon */\n",
       ".sk-estimator-doc-link span {\n",
       "  display: none;\n",
       "  z-index: 9999;\n",
       "  position: relative;\n",
       "  font-weight: normal;\n",
       "  right: .2ex;\n",
       "  padding: .5ex;\n",
       "  margin: .5ex;\n",
       "  width: min-content;\n",
       "  min-width: 20ex;\n",
       "  max-width: 50ex;\n",
       "  color: var(--sklearn-color-text);\n",
       "  box-shadow: 2pt 2pt 4pt #999;\n",
       "  /* unfitted */\n",
       "  background: var(--sklearn-color-unfitted-level-0);\n",
       "  border: .5pt solid var(--sklearn-color-unfitted-level-3);\n",
       "}\n",
       "\n",
       ".sk-estimator-doc-link.fitted span {\n",
       "  /* fitted */\n",
       "  background: var(--sklearn-color-fitted-level-0);\n",
       "  border: var(--sklearn-color-fitted-level-3);\n",
       "}\n",
       "\n",
       ".sk-estimator-doc-link:hover span {\n",
       "  display: block;\n",
       "}\n",
       "\n",
       "/* \"?\"-specific style due to the `<a>` HTML tag */\n",
       "\n",
       "#sk-container-id-21 a.estimator_doc_link {\n",
       "  float: right;\n",
       "  font-size: 1rem;\n",
       "  line-height: 1em;\n",
       "  font-family: monospace;\n",
       "  background-color: var(--sklearn-color-background);\n",
       "  border-radius: 1rem;\n",
       "  height: 1rem;\n",
       "  width: 1rem;\n",
       "  text-decoration: none;\n",
       "  /* unfitted */\n",
       "  color: var(--sklearn-color-unfitted-level-1);\n",
       "  border: var(--sklearn-color-unfitted-level-1) 1pt solid;\n",
       "}\n",
       "\n",
       "#sk-container-id-21 a.estimator_doc_link.fitted {\n",
       "  /* fitted */\n",
       "  border: var(--sklearn-color-fitted-level-1) 1pt solid;\n",
       "  color: var(--sklearn-color-fitted-level-1);\n",
       "}\n",
       "\n",
       "/* On hover */\n",
       "#sk-container-id-21 a.estimator_doc_link:hover {\n",
       "  /* unfitted */\n",
       "  background-color: var(--sklearn-color-unfitted-level-3);\n",
       "  color: var(--sklearn-color-background);\n",
       "  text-decoration: none;\n",
       "}\n",
       "\n",
       "#sk-container-id-21 a.estimator_doc_link.fitted:hover {\n",
       "  /* fitted */\n",
       "  background-color: var(--sklearn-color-fitted-level-3);\n",
       "}\n",
       "</style><div id=\"sk-container-id-21\" class=\"sk-top-container\"><div class=\"sk-text-repr-fallback\"><pre>XGBRegressor(base_score=None, booster=None, callbacks=None,\n",
       "             colsample_bylevel=None, colsample_bynode=None,\n",
       "             colsample_bytree=None, device=None, early_stopping_rounds=None,\n",
       "             enable_categorical=False, eval_metric=None, feature_types=None,\n",
       "             feature_weights=None, gamma=None, grow_policy=None,\n",
       "             importance_type=None, interaction_constraints=None,\n",
       "             learning_rate=0.02, max_bin=None, max_cat_threshold=None,\n",
       "             max_cat_to_onehot=None, max_delta_step=None, max_depth=5,\n",
       "             max_leaves=None, min_child_weight=None, missing=nan,\n",
       "             monotone_constraints=None, multi_strategy=None, n_estimators=500,\n",
       "             n_jobs=None, num_parallel_tree=None, ...)</pre><b>In a Jupyter environment, please rerun this cell to show the HTML representation or trust the notebook. <br />On GitHub, the HTML representation is unable to render, please try loading this page with nbviewer.org.</b></div><div class=\"sk-container\" hidden><div class=\"sk-item\"><div class=\"sk-estimator fitted sk-toggleable\"><input class=\"sk-toggleable__control sk-hidden--visually\" id=\"sk-estimator-id-21\" type=\"checkbox\" checked><label for=\"sk-estimator-id-21\" class=\"sk-toggleable__label fitted sk-toggleable__label-arrow fitted\">&nbsp;&nbsp;XGBRegressor<a class=\"sk-estimator-doc-link fitted\" rel=\"noreferrer\" target=\"_blank\" href=\"https://xgboost.readthedocs.io/en/release_3.0.0/python/python_api.html#xgboost.XGBRegressor\">?<span>Documentation for XGBRegressor</span></a><span class=\"sk-estimator-doc-link fitted\">i<span>Fitted</span></span></label><div class=\"sk-toggleable__content fitted\"><pre>XGBRegressor(base_score=None, booster=None, callbacks=None,\n",
       "             colsample_bylevel=None, colsample_bynode=None,\n",
       "             colsample_bytree=None, device=None, early_stopping_rounds=None,\n",
       "             enable_categorical=False, eval_metric=None, feature_types=None,\n",
       "             feature_weights=None, gamma=None, grow_policy=None,\n",
       "             importance_type=None, interaction_constraints=None,\n",
       "             learning_rate=0.02, max_bin=None, max_cat_threshold=None,\n",
       "             max_cat_to_onehot=None, max_delta_step=None, max_depth=5,\n",
       "             max_leaves=None, min_child_weight=None, missing=nan,\n",
       "             monotone_constraints=None, multi_strategy=None, n_estimators=500,\n",
       "             n_jobs=None, num_parallel_tree=None, ...)</pre></div> </div></div></div></div>"
      ],
      "text/plain": [
       "XGBRegressor(base_score=None, booster=None, callbacks=None,\n",
       "             colsample_bylevel=None, colsample_bynode=None,\n",
       "             colsample_bytree=None, device=None, early_stopping_rounds=None,\n",
       "             enable_categorical=False, eval_metric=None, feature_types=None,\n",
       "             feature_weights=None, gamma=None, grow_policy=None,\n",
       "             importance_type=None, interaction_constraints=None,\n",
       "             learning_rate=0.02, max_bin=None, max_cat_threshold=None,\n",
       "             max_cat_to_onehot=None, max_delta_step=None, max_depth=5,\n",
       "             max_leaves=None, min_child_weight=None, missing=nan,\n",
       "             monotone_constraints=None, multi_strategy=None, n_estimators=500,\n",
       "             n_jobs=None, num_parallel_tree=None, ...)"
      ]
     },
     "execution_count": 2810,
     "metadata": {},
     "output_type": "execute_result"
    }
   ],
   "source": [
    "from xgboost import XGBRegressor\n",
    "\n",
    "xgb = XGBRegressor(n_estimators=500, learning_rate=0.02, max_depth=5, random_state=42,reg_alpha=0.1, reg_lambda=1)\n",
    "xgb.fit(x_train_scaled, y_train_scaled)"
   ]
  },
  {
   "cell_type": "code",
   "execution_count": 2811,
   "id": "267f5b41-9d43-4d1a-aaf8-cbc067d8e408",
   "metadata": {},
   "outputs": [],
   "source": [
    "y_train_pred = xgb.predict(x_train_scaled)\n",
    "y_test_pred = xgb.predict(x_test_scaled)"
   ]
  },
  {
   "cell_type": "code",
   "execution_count": 2812,
   "id": "40fc7892-b213-4199-a4c8-27aa5af129a3",
   "metadata": {},
   "outputs": [
    {
     "name": "stdout",
     "output_type": "stream",
     "text": [
      "\n",
      "Train Metrics:\n",
      "MAE: 0.2620, MSE: 0.1189, RMSE: 0.3449, R²: 0.8811\n",
      "\n",
      "Test Metrics:\n",
      "MAE: 0.3093, MSE: 0.1787, RMSE: 0.4228, R²: 0.8260\n"
     ]
    }
   ],
   "source": [
    "def print_metrics(y_true, y_pred, dataset_name=\"\"):\n",
    "    mae = mean_absolute_error(y_true, y_pred)\n",
    "    mse = mean_squared_error(y_true, y_pred)\n",
    "    rmse = np.sqrt(mse)\n",
    "    r2 = r2_score(y_true, y_pred)\n",
    "    \n",
    "    print(f\"\\n{dataset_name} Metrics:\")\n",
    "    print(f\"MAE: {mae:.4f}, MSE: {mse:.4f}, RMSE: {rmse:.4f}, R²: {r2:.4f}\")\n",
    "\n",
    "# Evaluate\n",
    "print_metrics(y_train_scaled, y_train_pred, \"Train\")\n",
    "print_metrics(y_test_scaled, y_test_pred, \"Test\")"
   ]
  },
  {
   "cell_type": "code",
   "execution_count": 2813,
   "id": "1490273b-03fc-40a5-940c-d63631532a9d",
   "metadata": {},
   "outputs": [],
   "source": [
    "y_train_pred_original = y_scaler.inverse_transform(y_train_pred.reshape(-1, 1))\n",
    "y_test_pred_original  = y_scaler.inverse_transform(y_test_pred.reshape(-1, 1))\n",
    "\n",
    "y_train_original = y_scaler.inverse_transform(y_train_scaled.reshape(-1, 1))\n",
    "y_test_original  = y_scaler.inverse_transform(y_test_scaled.reshape(-1, 1))"
   ]
  },
  {
   "cell_type": "markdown",
   "id": "33e49d80-ea50-4ab7-92f0-723cca8b3dc5",
   "metadata": {},
   "source": [
    "# Now lets see if we can make more improvements by hyperparameter tuning"
   ]
  },
  {
   "cell_type": "code",
   "execution_count": 2815,
   "id": "1107a971-86b2-4d7d-afd4-1dbf5a39e3de",
   "metadata": {},
   "outputs": [
    {
     "name": "stdout",
     "output_type": "stream",
     "text": [
      "Fitting 5 folds for each of 30 candidates, totalling 150 fits\n",
      "Best Parameters: {'subsample': 0.6, 'reg_lambda': 2, 'reg_alpha': 0, 'n_estimators': 800, 'max_depth': 5, 'learning_rate': 0.01, 'colsample_bytree': 0.8}\n",
      "Best Score: -0.17478315831561614\n"
     ]
    }
   ],
   "source": [
    "from sklearn.model_selection import RandomizedSearchCV\n",
    "# Define parameter grid\n",
    "param_grid = {\n",
    "    'n_estimators': [200, 500, 800, 1000],\n",
    "    'max_depth': [3, 4, 5, 6, 8],\n",
    "    'learning_rate': [0.01, 0.05, 0.1, 0.2],\n",
    "    'subsample': [0.6, 0.8, 1.0],\n",
    "    'colsample_bytree': [0.6, 0.8, 1.0],\n",
    "    'reg_alpha': [0, 0.1, 0.5],\n",
    "    'reg_lambda': [1, 2, 5]\n",
    "}\n",
    "\n",
    "# Randomized search\n",
    "random_search = RandomizedSearchCV(\n",
    "    estimator=xgb,\n",
    "    param_distributions=param_grid,\n",
    "    n_iter=30,\n",
    "    scoring='neg_mean_squared_error',\n",
    "    cv=5,\n",
    "    verbose=2,\n",
    "    random_state=42,\n",
    "    n_jobs=-1\n",
    ")\n",
    "\n",
    "random_search.fit(x_train_scaled, y_train_scaled)\n",
    "\n",
    "print(\"Best Parameters:\", random_search.best_params_)\n",
    "print(\"Best Score:\", random_search.best_score_)\n",
    "\n"
   ]
  },
  {
   "cell_type": "markdown",
   "id": "ffb7ae2b-00dd-49cd-aed7-ae93385b909f",
   "metadata": {},
   "source": [
    "# after hyperparameter tuning we got neg mse of -0.179 which is good"
   ]
  },
  {
   "cell_type": "code",
   "execution_count": 2817,
   "id": "3c650881-b970-45cc-a6bc-6c26a1258d11",
   "metadata": {},
   "outputs": [],
   "source": [
    "best_xgb = random_search.best_estimator_"
   ]
  },
  {
   "cell_type": "code",
   "execution_count": 2818,
   "id": "a23c8d80-6fa5-4e66-a91c-013668f87d84",
   "metadata": {},
   "outputs": [
    {
     "data": {
      "text/plain": [
       "(0.8705515218012545, 0.8278876773915568)"
      ]
     },
     "execution_count": 2818,
     "metadata": {},
     "output_type": "execute_result"
    }
   ],
   "source": [
    "best_xgb.score(x_train_scaled,y_train_scaled),best_xgb.score(x_test_scaled,y_test_scaled)"
   ]
  },
  {
   "cell_type": "code",
   "execution_count": 2819,
   "id": "39bd16b2-12cc-42a6-a091-53a69dd7ae04",
   "metadata": {},
   "outputs": [],
   "source": [
    "y_train_pred_new= best_xgb .predict(x_train_scaled)\n",
    "y_test_pred_new = best_xgb .predict(x_test_scaled)"
   ]
  },
  {
   "cell_type": "code",
   "execution_count": 2820,
   "id": "568b5448-b7de-45fa-8f76-fd558c0404f3",
   "metadata": {},
   "outputs": [
    {
     "name": "stdout",
     "output_type": "stream",
     "text": [
      "\n",
      "Train Metrics:\n",
      "MAE: 0.2734, MSE: 0.1294, RMSE: 0.3598, R²: 0.8706\n",
      "\n",
      "Test Metrics:\n",
      "MAE: 0.3090, MSE: 0.1768, RMSE: 0.4205, R²: 0.8279\n"
     ]
    }
   ],
   "source": [
    "def print_metrics(y_true, y_pred, dataset_name=\"\"):\n",
    "    mae = mean_absolute_error(y_true, y_pred)\n",
    "    mse = mean_squared_error(y_true, y_pred)\n",
    "    rmse = np.sqrt(mse)\n",
    "    r2 = r2_score(y_true, y_pred)\n",
    "    \n",
    "    print(f\"\\n{dataset_name} Metrics:\")\n",
    "    print(f\"MAE: {mae:.4f}, MSE: {mse:.4f}, RMSE: {rmse:.4f}, R²: {r2:.4f}\")\n",
    "\n",
    "# Evaluate\n",
    "print_metrics(y_train_scaled, y_train_pred_new, \"Train\")\n",
    "print_metrics(y_test_scaled, y_test_pred_new, \"Test\")"
   ]
  },
  {
   "cell_type": "markdown",
   "id": "9ed2defa-0b40-4ee5-8905-479f57eb887c",
   "metadata": {},
   "source": [
    "# Got not much improvement in score"
   ]
  },
  {
   "cell_type": "code",
   "execution_count": 2822,
   "id": "e65f120e-7646-4719-9843-3bea1f36ff89",
   "metadata": {},
   "outputs": [],
   "source": [
    "# import matplotlib.pyplot as plt\n",
    "# y_test_pred_lr= lr.predict(x_test_scaled)\n",
    "# plt.scatter(y_test_scaled, y_test_pred, alpha=0.6)\n",
    "# plt.xlabel(\"Actual Values\")\n",
    "# plt.ylabel(\"Predicted Values\")\n",
    "# plt.title(\"Predicted vs Actual (XGBoost)\")\n",
    "# plt.plot([y_test_scaled.min(), y_test_scaled.max()],\n",
    "#          [y_test_scaled.min(), y_test_scaled.max()],\n",
    "#          \"r--\")\n",
    "# plt.show()\n",
    "# plt.scatter(y_test_scaled, y_test_pred_lr, alpha=0.6)\n",
    "# plt.xlabel(\"Actual Values\")\n",
    "# plt.ylabel(\"Predicted Values\")\n",
    "# plt.title(\"Predicted vs Actual (Linear_reg)\")\n",
    "# plt.plot([y_test_scaled.min(), y_test_scaled.max()],\n",
    "#          [y_test_scaled.min(), y_test_scaled.max()],\n",
    "#          \"r--\")\n",
    "# plt.show()\n"
   ]
  },
  {
   "cell_type": "code",
   "execution_count": 2823,
   "id": "9e203abf-63a7-4645-a6d5-e4c984c981a9",
   "metadata": {},
   "outputs": [
    {
     "data": {
      "image/png": "[encoded data removed]",
      "text/plain": [
       "<Figure size 1200x600 with 2 Axes>"
      ]
     },
     "metadata": {},
     "output_type": "display_data"
    }
   ],
   "source": [
    "import matplotlib.pyplot as plt\n",
    "\n",
    "# Predictions\n",
    "y_test_pred_lr = lr.predict(x_test_scaled)\n",
    "y_test_pred_xgb = best_xgb.predict(x_test_scaled)\n",
    "\n",
    "# Create subplots\n",
    "fig, axes = plt.subplots(1, 2, figsize=(12, 6))\n",
    "\n",
    "# ---- XGBoost ----\n",
    "axes[0].scatter(y_test_scaled, y_test_pred_xgb, alpha=0.6, color=\"green\")\n",
    "axes[0].plot([y_test_scaled.min(), y_test_scaled.max()],\n",
    "             [y_test_scaled.min(), y_test_scaled.max()],\n",
    "             \"r--\")\n",
    "axes[0].set_title(\"Predicted vs Actual (XGBoost)\")\n",
    "axes[0].set_xlabel(\"Actual Values\")\n",
    "axes[0].set_ylabel(\"Predicted Values\")\n",
    "\n",
    "# ---- Linear Regression ----\n",
    "axes[1].scatter(y_test_scaled, y_test_pred_lr, alpha=0.6, color=\"blue\")\n",
    "axes[1].plot([y_test_scaled.min(), y_test_scaled.max()],\n",
    "             [y_test_scaled.min(), y_test_scaled.max()],\n",
    "             \"r--\")\n",
    "axes[1].set_title(\"Predicted vs Actual (Linear Regression)\")\n",
    "axes[1].set_xlabel(\"Actual Values\")\n",
    "axes[1].set_ylabel(\"Predicted Values\")\n",
    "\n",
    "plt.tight_layout()\n",
    "plt.show()\n"
   ]
  },
  {
   "cell_type": "code",
   "execution_count": 2907,
   "id": "3fac58c4-ef57-48e5-b7fb-29db12b80ceb",
   "metadata": {},
   "outputs": [
    {
     "data": {
      "text/plain": [
       "array([[4.291359 ],\n",
       "       [5.3480735],\n",
       "       [4.809668 ],\n",
       "       ...,\n",
       "       [3.8471694],\n",
       "       [3.8518398],\n",
       "       [3.900476 ]], dtype=float32)"
      ]
     },
     "execution_count": 2907,
     "metadata": {},
     "output_type": "execute_result"
    }
   ],
   "source": [
    "y_test_pred_xgb1=y_scaler.inverse_transform(y_test_pred_xgb.reshape(-1,1))"
   ]
  },
  {
   "cell_type": "code",
   "execution_count": 2916,
   "id": "85a81e0c-27fc-4eaf-aff2-2f2d127384e0",
   "metadata": {},
   "outputs": [
    {
     "data": {
      "image/png": "[encoded data removed]",
      "text/plain": [
       "<Figure size 800x600 with 1 Axes>"
      ]
     },
     "metadata": {},
     "output_type": "display_data"
    }
   ],
   "source": [
    "residuals = y_test -  y_test_pred_xgb1.flatten()\n",
    "\n",
    "plt.figure(figsize=(8,6))\n",
    "plt.scatter(y_test_pred_xgb1.flatten(), residuals, alpha=0.6, color=\"green\", edgecolors=\"k\")\n",
    "plt.axhline(y=0, color=\"red\", linestyle=\"--\")\n",
    "plt.xlabel(\"Predicted Prices\")\n",
    "plt.ylabel(\"Residuals (Actual - Predicted)\")\n",
    "plt.title(\"Residual Plot\")\n",
    "plt.show()\n"
   ]
  },
  {
   "cell_type": "markdown",
   "id": "06582489-b875-438b-b014-9ef61efbf9b4",
   "metadata": {},
   "source": [
    "# This plot tells me that how much diff is there in between actual and predicted value.Overall my model is doing good.Not much of error."
   ]
  },
  {
   "cell_type": "code",
   "execution_count": 2922,
   "id": "2ca40630-1d89-41b4-be17-bd6d78621594",
   "metadata": {},
   "outputs": [
    {
     "data": {
      "image/png": "[encoded data removed]",
      "text/plain": [
       "<Figure size 1200x600 with 1 Axes>"
      ]
     },
     "metadata": {},
     "output_type": "display_data"
    }
   ],
   "source": [
    "import pandas as pd\n",
    "\n",
    "comparison_df = pd.DataFrame({\"Actual\": y_test.values[:20], \"Predicted\": y_test_pred_xgb1.flatten()[:20]})\n",
    "comparison_df.plot(kind=\"bar\", figsize=(12,6))\n",
    "plt.title(\"Actual vs Predicted Prices (Sample of 20)\")\n",
    "plt.xlabel(\"Sample Index\")\n",
    "plt.ylabel(\"House Price\")\n",
    "plt.show()\n"
   ]
  },
  {
   "cell_type": "markdown",
   "id": "74301411-e4d4-4ca6-a4fe-68c890178dd6",
   "metadata": {},
   "source": [
    "# By seeing this plot I can tell that my model is predicting values very close to the real values also for new data"
   ]
  },
  {
   "cell_type": "code",
   "execution_count": 2380,
   "id": "cc18a007-f13e-4825-93be-c40b3fe03482",
   "metadata": {},
   "outputs": [],
   "source": [
    "import pickle\n",
    "\n",
    "pickle.dump(best_xgb,open('xgb_model.pkl','wb'))\n",
    "\n",
    "# Save scaler (if you used StandardScaler/MinMaxScaler)\n",
    "pickle.dump(scaler, open('scaler_X.pkl', 'wb'))\n",
    "pickle.dump(y_scaler, open('scaler_y.pkl', 'wb'))\n",
    "# pickle.dump(encoder, open('scaler_y.pkl', 'wb'))\n"
   ]
  },
  {
   "cell_type": "code",
   "execution_count": 2381,
   "id": "aebae665-a129-4a53-830b-96c352a28627",
   "metadata": {},
   "outputs": [
    {
     "data": {
      "text/plain": [
       "0.8260455432209348"
      ]
     },
     "execution_count": 2381,
     "metadata": {},
     "output_type": "execute_result"
    }
   ],
   "source": [
    "xgb.score(x_test_scaled,y_test_scaled)"
   ]
  },
  {
   "cell_type": "markdown",
   "id": "23a6cb4a-65ed-4b78-9952-efe981009924",
   "metadata": {},
   "source": [
    "# The final score after hyperparameter tuning is 83%"
   ]
  },
  {
   "cell_type": "code",
   "execution_count": 2410,
   "id": "e4538863-63e3-4825-9d26-22334381363d",
   "metadata": {},
   "outputs": [
    {
     "name": "stdout",
     "output_type": "stream",
     "text": [
      "Predicted Price: [91.595604]\n"
     ]
    }
   ],
   "source": [
    "loaded_model = pickle.load(open('xgb_model.pkl', 'rb'))\n",
    "loaded_scaler_X = pickle.load(open('scaler_X.pkl', 'rb'))\n",
    "loaded_scaler_y = pickle.load(open('scaler_y.pkl', 'rb'))\n",
    "\n",
    "# Example new input (replace with real feature order)\n",
    "# Suppose your features are [bhk, bath, sqft, area, location_encoded]\n",
    "new_data = [[3,1521,3.0,115.348261,92.708660]]\n",
    "# 3\t1521.0\t3.0\t95.00\t115.348261\t93.039255\n",
    "# 2\t1056\t2.0\t1.0\t39.07\t48.316667\t93.03925\n",
    "# 2.0\t1056.0\t2.0\t\t47.406870\t92.708660\n",
    "# 2.0\t1200.0\t2.0\t3.951244\t95.630303\t92.708660\n",
    "# 3.0\t1521.0\t3.0\t4.564348\t115.348261\t92.708660\n",
    "# Scale input features\n",
    "new_data_scaled = loaded_scaler_X.transform(new_data)\n",
    "\n",
    "# Predict (in log scale or scaled target)\n",
    "log_price_pred = loaded_model.predict(new_data_scaled)\n",
    "\n",
    "# Inverse transform back to original price\n",
    "# If you used StandardScaler on y\n",
    "price_pred = loaded_scaler_y.inverse_transform(log_price_pred.reshape(-1,1))\n",
    "\n",
    "# If you used np.log1p(y) instead\n",
    "price_pred = np.expm1(price_pred)\n",
    "\n",
    "print(\"Predicted Price:\", price_pred[0])"
   ]
  }
 ],
 "metadata": {
  "kernelspec": {
   "display_name": "Python 3 (ipykernel)",
   "language": "python",
   "name": "python3"
  },
  "language_info": {
   "codemirror_mode": {
    "name": "ipython",
    "version": 3
   },
   "file_extension": ".py",
   "mimetype": "text/x-python",
   "name": "python",
   "nbconvert_exporter": "python",
   "pygments_lexer": "ipython3",
   "version": "3.12.4"
  }
 },
 "nbformat": 4,
 "nbformat_minor": 5
}
